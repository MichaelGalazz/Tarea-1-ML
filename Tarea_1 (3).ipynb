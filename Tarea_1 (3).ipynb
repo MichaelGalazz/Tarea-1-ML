{
  "cells": [
    {
      "cell_type": "markdown",
      "metadata": {
        "id": "4Ra8eI01vFUk"
      },
      "source": [
        "EAE3709 APLICACIONES DE  MACHINE LEARNING EN ECONOMÍA <br>\n",
        "1ER SEMESTRE 2025 <br>\n",
        "INSTITUTO DE ECONOMÍA <br>\n",
        "PONTIFICIA UNIVERSIDAD CATÓLICA DE CHILE\n",
        "\n",
        "\n",
        "# **TAREA 1**\n",
        "\n",
        "\n",
        "---\n",
        "\n",
        "\n",
        "Profesor:\n",
        "- Joaquín Pérez Lapillo\n",
        "\n",
        "Ayudantes:\n",
        "\n",
        "- Luis García B.\n",
        "- Sebastián Hernández B.\n",
        "- Oscar Herrera G.\n"
      ]
    },
    {
      "cell_type": "markdown",
      "metadata": {
        "id": "_wLFGPfMRpHk"
      },
      "source": []
    },
    {
      "cell_type": "markdown",
      "metadata": {
        "id": "yqQBV0vWVQP6"
      },
      "source": [
        "**Complete sus datos:**\n",
        "\n",
        "- Nombre y apellido:\n",
        "  - `Sebastian Campos`\n",
        "  - `Michael Galaz`\n",
        "- Usuario de GitHub (opcional):  `MichaelGalazz`\n"
      ]
    },
    {
      "cell_type": "markdown",
      "metadata": {
        "id": "8qOWoCOwwBY-"
      },
      "source": [
        "## Instrucciones\n",
        "\n",
        "- Descargue el notebook y cárguelo en su Drive.\n",
        "- Todas las preguntas deben ser contestadas en su notebook.\n",
        "- Para que una pregunta esté correcta el código debe correr.\n",
        "- Si es necesario, realice comentarios breves en su código explicando lo que está realizando o sus resultados.\n",
        "- Una vez culminada su tarea, suba su notebook al buzón de tareas de Canvas.\n",
        "- La fecha y hora límite de esta tarea es el _**viernes 4 de abril a las 18:00 hrs**_.\n",
        "\n"
      ]
    },
    {
      "cell_type": "markdown",
      "metadata": {
        "id": "XBzO2w8EVm5c"
      },
      "source": [
        "### Distribución de puntaje\n",
        "\n",
        "\n",
        "| Pregunta                        | Puntaje |\n",
        "|--------------------------------|---------|\n",
        "| Pregunta 1.0                   |    1    |\n",
        "| Pregunta 1.1                   |    3    |\n",
        "| Pregunta 1.2                   |    3    |\n",
        "| Pregunta 1.3                   |    2    |\n",
        "| Pregunta 1.4                   |    2    |\n",
        "| Pregunta 1.5                   |    5    |\n",
        "| Pregunta 1.6                   |    2    |\n",
        "| Pregunta 1.7                   |    5    |\n",
        "| Pregunta 1.8                   |   7    |\n",
        "| Pregunta 1.9                   |   5    |\n",
        "| Pregunta 1.10                  |   5    |\n",
        "| Pregunta 1.11                  |   6    |\n",
        "| Pregunta 1.12                  |    2    |\n",
        "| Pregunta 1.13                  |    5    |\n",
        "| Pregunta 1.14                  |   10    |\n",
        "| Pregunta 1.15                  |    5    |\n",
        "| Pregunta 1.16                  |    5    |\n",
        "| Pregunta 2.0                   |    2    |\n",
        "| Pregunta 2.1                   |    5    |\n",
        "| Pregunta 2.2                   |    5    |\n",
        "| Pregunta 2.3                   |    5    |\n",
        "| Pregunta 2.4                   |    3    |\n",
        "| Pregunta 2.5                   |    3    |\n",
        "| Pregunta 2.6                   |    2    |\n",
        "| Pregunta 2.7                   |    2    |\n",
        "\n",
        "Total: 100 pts.\n"
      ]
    },
    {
      "cell_type": "markdown",
      "metadata": {
        "id": "Vk7iPtznVHVi"
      },
      "source": [
        "### Sobre el Bonus\n",
        "\n",
        "- La entrega, por defecto, es a través de Canvas. Sin embargo, puede escoger voluntariamente entregar la tarea en su GitHub personal.\n",
        "\n",
        "- Si usted realiza la entrega en GitHub antes de la **fecha y hora indicada**, entonces tendrá una bonificación de 0.3 en su nota final de tarea. Es decir, si usted obtuvo una nota de 6.5, pero entregó en su GitHub, entonces su calificación en esta tarea será de 6.8.\n",
        "\n",
        "- Si **además** de realizar la entrega a través de GitHub, usted logra crear `branches` (ramas) y realizar un `merge` entre ramas, entonces se le bonificará con 0.5 en su nota de tarea. Es decir, si usted obtuvo una nota de 6.5, pero entregó en su GitHub e hizo el trabajo de ramas, entonces su calificación en esta tarea será de 7.0.\n",
        "\n",
        "  - Se valora capacidad autodidacta.\n",
        "  - Sólo serán considerados los archivos contenidos en su rama principal a la fecha y hora indicada.\n",
        "\n"
      ]
    },
    {
      "cell_type": "markdown",
      "metadata": {
        "id": "jaq2e8c8vcYw"
      },
      "source": [
        "## Exploratory data analysis (EDA)"
      ]
    },
    {
      "cell_type": "markdown",
      "metadata": {
        "id": "cKQoWCh7voMY"
      },
      "source": [
        "Para esta tarea se utilizará como principal fuente de información un dataset con una serie de características económicas, demográficas y de desarrollo humano de distintos países a la fecha de 2007 (corte transversal). El dataset está disponible en el siguiente [Github](https://raw.githubusercontent.com/lfgarcia-1/EAE3709-1-2025/refs/heads/main/economic_dataset.csv).<br>\n",
        "\n",
        "Descripción del dataset:\n",
        "\n",
        "Variables:\n",
        "\n",
        "*   date: Fecha en la que se actualizó la data.\n",
        "*   Population, Area (sq. mi.) Pop. Density (per sq. mi.), Coastline (coast/area ratio), Net migration, Infant mortality (per 1000 births), GDP ($ per capita, Literacy (%), Phones (per 1000), Arable (%), Crops (%), Other (%), Climate, Birthrate, Deathrate, Agriculture, Industry, Service: Características del país.\n",
        "*   source: fuente de los datos.\n",
        "*   Region: Región (grupo de países).\n",
        "*   Country: País."
      ]
    },
    {
      "cell_type": "markdown",
      "metadata": {
        "id": "mOy5mXKWemrS"
      },
      "source": [
        "### Pregunta 1.0\n",
        "\n",
        "Importe las librerías que usará en su tarea."
      ]
    },
    {
      "cell_type": "code",
      "execution_count": 4,
      "metadata": {
        "id": "2Mp3_soge35K"
      },
      "outputs": [],
      "source": [
        "# Librerías manejo de datos\n",
        "import pandas as pd\n",
        "import numpy as np\n",
        "# Librerías para graficar\n",
        "import matplotlib.pyplot as plt\n",
        "import seaborn as sns\n",
        "\n",
        "# Librería que filtra warnings innecesarios\n",
        "import warnings\n",
        "warnings.filterwarnings(\"ignore\")"
      ]
    },
    {
      "cell_type": "markdown",
      "metadata": {
        "id": "-6O0wui_GPKs"
      },
      "source": [
        "### Pregunta 1.1\n",
        "\n",
        "Importe el dataset como un DataFrame (df) directamente desde Github (es decir, no descargue el archivo manualmente). A lo largo de la tarea este df se denominará como `df`.\n"
      ]
    },
    {
      "cell_type": "code",
      "execution_count": 5,
      "metadata": {
        "id": "5khrY9a1GO51"
      },
      "outputs": [],
      "source": [
        "# URL del archivo CSV en GitHub\n",
        "url = 'https://raw.githubusercontent.com/lfgarcia-1/EAE3709-1-2025/refs/heads/main/economic_dataset.csv'\n",
        "\n",
        "#Se leen los datos\n",
        "df = pd.read_csv(url)"
      ]
    },
    {
      "cell_type": "markdown",
      "metadata": {
        "id": "0ByEXODiGVIc"
      },
      "source": [
        "### Pregunta 1.2\n",
        "\n",
        "Utilice las funciones de Pandas `head()`, `tail()`, `info()` y la propiedad (o atributo) `.dtypes` para describir el `df`. Explique brevemente para qué sirve cada función."
      ]
    },
    {
      "cell_type": "code",
      "execution_count": null,
      "metadata": {
        "colab": {
          "base_uri": "https://localhost:8080/",
          "height": 429
        },
        "collapsed": true,
        "id": "Ml6rJ0rhUJtw",
        "outputId": "6a6e0316-5b56-4563-8181-d3ffe15f1cbd"
      },
      "outputs": [],
      "source": [
        "df.head() #Visualización de las primeras 5 filas del database"
      ]
    },
    {
      "cell_type": "code",
      "execution_count": null,
      "metadata": {
        "colab": {
          "base_uri": "https://localhost:8080/",
          "height": 446
        },
        "collapsed": true,
        "id": "VsjP1iBYUrsn",
        "outputId": "ebe73a76-a907-485a-afa1-ddc091fa7f59"
      },
      "outputs": [],
      "source": [
        "df.tail() #Visualización de las ultimas 5 filas del database"
      ]
    },
    {
      "cell_type": "code",
      "execution_count": null,
      "metadata": {
        "colab": {
          "base_uri": "https://localhost:8080/"
        },
        "collapsed": true,
        "id": "G1kBfuG9Uw_n",
        "outputId": "d29a9a82-9cd2-4e24-9cdf-323c33be7353"
      },
      "outputs": [],
      "source": [
        "df.info() #Proporciona un resumen detallado del DataFrame, incluyendo el número de filas y columnas, los tipos de datos de cada columna y la cantidad de valores no nulos en cada una."
      ]
    },
    {
      "cell_type": "code",
      "execution_count": null,
      "metadata": {
        "colab": {
          "base_uri": "https://localhost:8080/",
          "height": 774
        },
        "collapsed": true,
        "id": "5WXo9qTKT7nj",
        "outputId": "374f4d4b-cdde-4196-c486-96188558f0d7"
      },
      "outputs": [],
      "source": [
        "df.dtypes #muestra el tipo de dato de cada columna, parecida a la anterior pero menos detallada"
      ]
    },
    {
      "cell_type": "markdown",
      "metadata": {
        "id": "Kq_LZm-zOkBc"
      },
      "source": [
        "### Pregunta 1.3\n",
        "\n",
        "La variable `source` es innecesaria debido que contiene el mismo valor para todas las observaciones. Elimine esta variable de su `df`."
      ]
    },
    {
      "cell_type": "code",
      "execution_count": 6,
      "metadata": {
        "colab": {
          "base_uri": "https://localhost:8080/",
          "height": 429
        },
        "collapsed": true,
        "id": "lEb-N3nkOobU",
        "outputId": "461b49ce-d220-44a7-a80c-59ec2cef4219"
      },
      "outputs": [
        {
          "data": {
            "text/html": [
              "<div>\n",
              "<style scoped>\n",
              "    .dataframe tbody tr th:only-of-type {\n",
              "        vertical-align: middle;\n",
              "    }\n",
              "\n",
              "    .dataframe tbody tr th {\n",
              "        vertical-align: top;\n",
              "    }\n",
              "\n",
              "    .dataframe thead th {\n",
              "        text-align: right;\n",
              "    }\n",
              "</style>\n",
              "<table border=\"1\" class=\"dataframe\">\n",
              "  <thead>\n",
              "    <tr style=\"text-align: right;\">\n",
              "      <th></th>\n",
              "      <th>date</th>\n",
              "      <th>Country</th>\n",
              "      <th>Region</th>\n",
              "      <th>Population</th>\n",
              "      <th>Area (sq. mi.)</th>\n",
              "      <th>Pop. Density (per sq. mi.)</th>\n",
              "      <th>Coastline (coast/area ratio)</th>\n",
              "      <th>Net migration</th>\n",
              "      <th>Infant mortality (per 1000 births)</th>\n",
              "      <th>GDP ($ per capita)</th>\n",
              "      <th>...</th>\n",
              "      <th>Phones (per 1000)</th>\n",
              "      <th>Arable (%)</th>\n",
              "      <th>Crops (%)</th>\n",
              "      <th>Other (%)</th>\n",
              "      <th>Climate</th>\n",
              "      <th>Birthrate</th>\n",
              "      <th>Deathrate</th>\n",
              "      <th>Agriculture</th>\n",
              "      <th>Industry</th>\n",
              "      <th>Service</th>\n",
              "    </tr>\n",
              "  </thead>\n",
              "  <tbody>\n",
              "    <tr>\n",
              "      <th>0</th>\n",
              "      <td>2007-01-01</td>\n",
              "      <td>Afghanistan</td>\n",
              "      <td>ASIA (EX. NEAR EAST)</td>\n",
              "      <td>31056997</td>\n",
              "      <td>647500</td>\n",
              "      <td>48.0</td>\n",
              "      <td>0.00</td>\n",
              "      <td>23.06</td>\n",
              "      <td>163.07</td>\n",
              "      <td>700.0</td>\n",
              "      <td>...</td>\n",
              "      <td>3.2</td>\n",
              "      <td>12.13</td>\n",
              "      <td>0.22</td>\n",
              "      <td>87.65</td>\n",
              "      <td>1.0</td>\n",
              "      <td>46.60</td>\n",
              "      <td>20.34</td>\n",
              "      <td>0.380</td>\n",
              "      <td>0.240</td>\n",
              "      <td>0.380</td>\n",
              "    </tr>\n",
              "    <tr>\n",
              "      <th>1</th>\n",
              "      <td>2007-01-01</td>\n",
              "      <td>Albania</td>\n",
              "      <td>EASTERN EUROPE</td>\n",
              "      <td>3581655</td>\n",
              "      <td>28748</td>\n",
              "      <td>124.6</td>\n",
              "      <td>1.26</td>\n",
              "      <td>-4.93</td>\n",
              "      <td>21.52</td>\n",
              "      <td>4500.0</td>\n",
              "      <td>...</td>\n",
              "      <td>71.2</td>\n",
              "      <td>21.09</td>\n",
              "      <td>4.42</td>\n",
              "      <td>74.49</td>\n",
              "      <td>3.0</td>\n",
              "      <td>15.11</td>\n",
              "      <td>5.22</td>\n",
              "      <td>0.232</td>\n",
              "      <td>0.188</td>\n",
              "      <td>0.579</td>\n",
              "    </tr>\n",
              "    <tr>\n",
              "      <th>2</th>\n",
              "      <td>2007-01-01</td>\n",
              "      <td>Algeria</td>\n",
              "      <td>NORTHERN AFRICA</td>\n",
              "      <td>32930091</td>\n",
              "      <td>2381740</td>\n",
              "      <td>13.8</td>\n",
              "      <td>0.04</td>\n",
              "      <td>-0.39</td>\n",
              "      <td>31.00</td>\n",
              "      <td>6000.0</td>\n",
              "      <td>...</td>\n",
              "      <td>78.1</td>\n",
              "      <td>3.22</td>\n",
              "      <td>0.25</td>\n",
              "      <td>96.53</td>\n",
              "      <td>1.0</td>\n",
              "      <td>17.14</td>\n",
              "      <td>4.61</td>\n",
              "      <td>0.101</td>\n",
              "      <td>0.600</td>\n",
              "      <td>0.298</td>\n",
              "    </tr>\n",
              "    <tr>\n",
              "      <th>3</th>\n",
              "      <td>2007-01-01</td>\n",
              "      <td>American Samoa</td>\n",
              "      <td>OCEANIA</td>\n",
              "      <td>57794</td>\n",
              "      <td>199</td>\n",
              "      <td>290.4</td>\n",
              "      <td>58.29</td>\n",
              "      <td>-20.71</td>\n",
              "      <td>9.27</td>\n",
              "      <td>8000.0</td>\n",
              "      <td>...</td>\n",
              "      <td>259.5</td>\n",
              "      <td>10.00</td>\n",
              "      <td>15.00</td>\n",
              "      <td>75.00</td>\n",
              "      <td>2.0</td>\n",
              "      <td>22.46</td>\n",
              "      <td>3.27</td>\n",
              "      <td>NaN</td>\n",
              "      <td>NaN</td>\n",
              "      <td>NaN</td>\n",
              "    </tr>\n",
              "    <tr>\n",
              "      <th>4</th>\n",
              "      <td>2007-01-01</td>\n",
              "      <td>Andorra</td>\n",
              "      <td>WESTERN EUROPE</td>\n",
              "      <td>71201</td>\n",
              "      <td>468</td>\n",
              "      <td>152.1</td>\n",
              "      <td>0.00</td>\n",
              "      <td>6.60</td>\n",
              "      <td>4.05</td>\n",
              "      <td>19000.0</td>\n",
              "      <td>...</td>\n",
              "      <td>497.2</td>\n",
              "      <td>2.22</td>\n",
              "      <td>0.00</td>\n",
              "      <td>97.78</td>\n",
              "      <td>3.0</td>\n",
              "      <td>8.71</td>\n",
              "      <td>6.25</td>\n",
              "      <td>NaN</td>\n",
              "      <td>NaN</td>\n",
              "      <td>NaN</td>\n",
              "    </tr>\n",
              "  </tbody>\n",
              "</table>\n",
              "<p>5 rows × 21 columns</p>\n",
              "</div>"
            ],
            "text/plain": [
              "         date          Country                               Region  \\\n",
              "0  2007-01-01     Afghanistan         ASIA (EX. NEAR EAST)            \n",
              "1  2007-01-01         Albania   EASTERN EUROPE                        \n",
              "2  2007-01-01         Algeria   NORTHERN AFRICA                       \n",
              "3  2007-01-01  American Samoa   OCEANIA                               \n",
              "4  2007-01-01         Andorra   WESTERN EUROPE                        \n",
              "\n",
              "   Population  Area (sq. mi.)  Pop. Density (per sq. mi.)  \\\n",
              "0    31056997          647500                        48.0   \n",
              "1     3581655           28748                       124.6   \n",
              "2    32930091         2381740                        13.8   \n",
              "3       57794             199                       290.4   \n",
              "4       71201             468                       152.1   \n",
              "\n",
              "   Coastline (coast/area ratio)  Net migration  \\\n",
              "0                          0.00          23.06   \n",
              "1                          1.26          -4.93   \n",
              "2                          0.04          -0.39   \n",
              "3                         58.29         -20.71   \n",
              "4                          0.00           6.60   \n",
              "\n",
              "   Infant mortality (per 1000 births)  GDP ($ per capita)  ...  \\\n",
              "0                              163.07               700.0  ...   \n",
              "1                               21.52              4500.0  ...   \n",
              "2                               31.00              6000.0  ...   \n",
              "3                                9.27              8000.0  ...   \n",
              "4                                4.05             19000.0  ...   \n",
              "\n",
              "   Phones (per 1000)  Arable (%)  Crops (%)  Other (%)  Climate  Birthrate  \\\n",
              "0                3.2       12.13       0.22      87.65      1.0      46.60   \n",
              "1               71.2       21.09       4.42      74.49      3.0      15.11   \n",
              "2               78.1        3.22       0.25      96.53      1.0      17.14   \n",
              "3              259.5       10.00      15.00      75.00      2.0      22.46   \n",
              "4              497.2        2.22       0.00      97.78      3.0       8.71   \n",
              "\n",
              "   Deathrate  Agriculture  Industry  Service  \n",
              "0      20.34        0.380     0.240    0.380  \n",
              "1       5.22        0.232     0.188    0.579  \n",
              "2       4.61        0.101     0.600    0.298  \n",
              "3       3.27          NaN       NaN      NaN  \n",
              "4       6.25          NaN       NaN      NaN  \n",
              "\n",
              "[5 rows x 21 columns]"
            ]
          },
          "execution_count": 6,
          "metadata": {},
          "output_type": "execute_result"
        }
      ],
      "source": [
        "#Borramos\n",
        "df = df.drop(columns=['source'])\n",
        "#comprabamos que esta correcto\n",
        "df.head()"
      ]
    },
    {
      "cell_type": "markdown",
      "metadata": {
        "id": "tThRIJnuYd4c"
      },
      "source": [
        "### Pregunta 1.4\n",
        "\n",
        "Transforme el tipo de la variable `date` a `datetime` _datatype_."
      ]
    },
    {
      "cell_type": "code",
      "execution_count": 7,
      "metadata": {
        "collapsed": true,
        "id": "uoXnhZDfYdVt"
      },
      "outputs": [
        {
          "name": "stdout",
          "output_type": "stream",
          "text": [
            "<class 'pandas.core.frame.DataFrame'>\n",
            "RangeIndex: 227 entries, 0 to 226\n",
            "Data columns (total 21 columns):\n",
            " #   Column                              Non-Null Count  Dtype         \n",
            "---  ------                              --------------  -----         \n",
            " 0   date                                227 non-null    datetime64[ns]\n",
            " 1   Country                             227 non-null    object        \n",
            " 2   Region                              227 non-null    object        \n",
            " 3   Population                          227 non-null    int64         \n",
            " 4   Area (sq. mi.)                      227 non-null    int64         \n",
            " 5   Pop. Density (per sq. mi.)          227 non-null    float64       \n",
            " 6   Coastline (coast/area ratio)        227 non-null    float64       \n",
            " 7   Net migration                       224 non-null    float64       \n",
            " 8   Infant mortality (per 1000 births)  224 non-null    float64       \n",
            " 9   GDP ($ per capita)                  226 non-null    float64       \n",
            " 10  Literacy (%)                        209 non-null    float64       \n",
            " 11  Phones (per 1000)                   223 non-null    float64       \n",
            " 12  Arable (%)                          225 non-null    float64       \n",
            " 13  Crops (%)                           225 non-null    float64       \n",
            " 14  Other (%)                           225 non-null    float64       \n",
            " 15  Climate                             205 non-null    float64       \n",
            " 16  Birthrate                           224 non-null    float64       \n",
            " 17  Deathrate                           223 non-null    float64       \n",
            " 18  Agriculture                         212 non-null    float64       \n",
            " 19  Industry                            211 non-null    float64       \n",
            " 20  Service                             212 non-null    float64       \n",
            "dtypes: datetime64[ns](1), float64(16), int64(2), object(2)\n",
            "memory usage: 37.4+ KB\n"
          ]
        }
      ],
      "source": [
        "df[\"date\"] = pd.to_datetime(df[\"date\"])\n",
        "df.info() #comprobamos"
      ]
    },
    {
      "cell_type": "markdown",
      "metadata": {
        "id": "KgRsTOJcWig8"
      },
      "source": [
        "### Pregunta 1.5\n",
        "\n",
        "Para determinar si las variables son \"útiles\" y sus valores son \"correctos\" es necesario comprender cada uno de los atributos del dataset.\n",
        "Investigue y explique brevemente la relación **teórica** entre el `GDP (% per capita)` y cada una de las variables denominadas como \"Características del país\" en la introducción.\n",
        "\n",
        "Ejemplo: Existe una variable denominada `Coastline (coast/area ratio)`. Coastline es una medida de la cantidad de costa (acceso a mar) del país normalizada al área total del país para no beneficiar a países más grandes pero con la misma proporción de costa. A mayor \"Costline\" aumenta la capacidad portuaria per capita del país, más puertos facilita el comercio y podría aumentar el GDP per cápita."
      ]
    },
    {
      "cell_type": "markdown",
      "metadata": {
        "id": "ioYH5uWuXT68"
      },
      "source": [
        "\n",
        "\n",
        "\n",
        "---\n",
        "**Population:** Una mayor población puede significar más mano de obra, pero sin educación o empleo adecuado, su impacto en el PIB per cápita puede ser negativo.\n",
        "\n",
        "\n",
        "**Density (per sq. mi.):** Puede generar economías de aglomeración y mayor productividad.\n",
        "\n",
        "\n",
        "**Net migration:** Un saldo migratorio positivo indica que el país es atractivo económicamente, lo que suele estar correlacionado con un PIB per cápita alto.\n",
        "\n",
        "\n",
        "**Infant mortality (per 1000 births)**: Altos valores reflejan problemas en salud pública y desarrollo, lo que frena el crecimiento del pib per capita.\n",
        "\n",
        "\n",
        "**Literacy (%):** Un mayor nivel de alfabetización implica un capital humano más calificado, lo que incrementa la productividad y el PIB per cápita.\n",
        "\n",
        "\n",
        "**Area (sq. mi.)**: Un país grande puede tener más recursos naturales, pero el tamaño por sí solo no garantiza un PIB per cápita alto sin una explotación eficiente.\n",
        "\n",
        "\n",
        "**Arable (%):** Puede impulsar la economía agrícola, pero una alta dependencia de la agricultura de baja productividad limita el crecimiento.\n",
        "\n",
        "\n",
        "**Crops (%):** Similar a Arable %, una economía demasiado centrada en la agricultura puede presentar menor PIB per cápita.\n",
        "\n",
        "\n",
        "**Climate:** Factores climáticos pueden afectar la productividad agrícola y la calidad de vida.\n",
        "\n",
        "\n",
        "**Industry, Service**: Países con un alto PIB per cápita dependen más de estos sectores, ya que generan mayor valor agregado que la agricultura.\n",
        "\n",
        "\n",
        "**Agriculture:** Una alta participación de la agricultura en la economía suele estar asociada con menor desarrollo y menor PIB per cápita.\n",
        "\n",
        "\n",
        "**Phones (per 1000)**: Mayor acceso a telecomunicaciones refleja mejor desarrollo tecnológico y económico.\n",
        "\n",
        "\n",
        "**Coastline (coast/area ratio)**:  A mayor \"Costline\" aumenta la capacidad portuaria per capita del país, más puertos facilita el comercio y podría aumentar el GDP per cápita.\n",
        "\n",
        "\n",
        "***Deathrate***: Altos valores suelen estar relacionados con menor desarrollo económico, reflejando problemas de salud.\n",
        "\n",
        "\n",
        "**Birthrate**: Altos niveles son necesarios para generar mayor capital humano futuro, lo que impulsa el crecimiento del pais. Aunque no necesariamente aumenta el GDP per capita. Si la poblacion crece al mismo nivel que el capital, el Pib per capita no tendra cambios.\n",
        "\n",
        "---\n",
        "\n"
      ]
    },
    {
      "cell_type": "markdown",
      "metadata": {
        "id": "8B-vbfFpGTu_"
      },
      "source": [
        "### Pregunta 1.6\n",
        "\n",
        "Calcule estadísticas descriptivas para cada variable numérica."
      ]
    },
    {
      "cell_type": "code",
      "execution_count": null,
      "metadata": {
        "colab": {
          "base_uri": "https://localhost:8080/"
        },
        "collapsed": true,
        "id": "kFLecrBPGTgN",
        "outputId": "32f5f8e4-de2e-4aef-e823-c462e40c2902"
      },
      "outputs": [],
      "source": [
        "df.describe()\n"
      ]
    },
    {
      "cell_type": "markdown",
      "metadata": {
        "id": "pNRwxamuGTW0"
      },
      "source": [
        "### Pregunta 1.7\n",
        "\n",
        "Según corresponda, realice un gráfico de distribución de densidad o histograma para describir 3 variables del `df` que usted crea más relevantes.\n",
        "\n",
        "¿Por qué es importante analizar las distribuciones de las variables a utilizar en su modelo? Ejemplifique su respuesta con al menos una de las variables del df`."
      ]
    },
    {
      "cell_type": "code",
      "execution_count": 5,
      "metadata": {
        "colab": {
          "base_uri": "https://localhost:8080/",
          "height": 467
        },
        "collapsed": true,
        "id": "6xy8R_WVSbAZ",
        "outputId": "c19b5aa7-3ad1-4645-8927-9b3159a7526d"
      },
      "outputs": [
        {
          "data": {
            "text/plain": [
              "<Axes: xlabel='GDP ($ per capita)', ylabel='Density'>"
            ]
          },
          "execution_count": 5,
          "metadata": {},
          "output_type": "execute_result"
        },
        {
          "data": {
            "image/png": "[encoded data removed]",
            "text/plain": [
              "<Figure size 640x480 with 1 Axes>"
            ]
          },
          "metadata": {},
          "output_type": "display_data"
        }
      ],
      "source": [
        "# Distribución de densidad de la variable objetivo\n",
        "sns.distplot(df['GDP ($ per capita)'])"
      ]
    },
    {
      "cell_type": "code",
      "execution_count": 8,
      "metadata": {
        "colab": {
          "base_uri": "https://localhost:8080/",
          "height": 519
        },
        "collapsed": true,
        "id": "DsB8kstFSLYp",
        "outputId": "e1b9b049-7d11-4706-a5bb-f86b7081ab4e"
      },
      "outputs": [
        {
          "data": {
            "image/png": "[encoded data removed]",
            "text/plain": [
              "<Figure size 2500x800 with 3 Axes>"
            ]
          },
          "metadata": {},
          "output_type": "display_data"
        }
      ],
      "source": [
        "# Aplicar transformación logarítmica a Population\n",
        "df['LnPopulation'] = np.log(df['Population'])\n",
        "\n",
        "\n",
        "\n",
        "# Variables relevantes\n",
        "variables = [\"LnPopulation\", \"Birthrate\", \"Literacy (%)\"]\n",
        "\n",
        "# Crear gráficos de distribución\n",
        "plt.figure(figsize=(25, 8))\n",
        "for i, var in enumerate(variables):\n",
        "    plt.subplot(1, 3, i + 1)\n",
        "    sns.histplot(df[var], kde=True, bins=30)\n",
        "    plt.title(f'Distribución de {var}')\n",
        "plt.tight_layout()\n",
        "plt.show()\n"
      ]
    },
    {
      "cell_type": "markdown",
      "metadata": {
        "id": "yDPjO7ZlsxkW"
      },
      "source": [
        "\n",
        "\n",
        "\n",
        "---\n",
        "\n",
        "Analizar las distribuciones de tus datos es clave para detectar posibles problemas, como sesgos, valores atípicos o patrones ocultos. Por ejemplo, en este caso, intentamos trabajar con la variable population sin transformarla y notamos que tiene una distribución muy asimétrica (sesgada a la derecha). Esto podría significar que unos pocos países con poblaciones enormes están dominando el comportamiento de los datos, lo que podría sesgar tu modelo.\n",
        "\n",
        "En estos casos, una transformación logarítmica puede ayudar a suavizar esos extremos y hace que los datos sean más manejables. Pero no es solo eso: entender cómo se distribuyen tus variables te permite anticipar problemas como: Asimetría (skewness), Valores atípicos (outliers) o Distribuciones multimodales\n",
        "\n",
        "Tener una muestra desbalanceada podria traer problemas cuando realicemos los distitnos metodos de ml, ya que el modelo tendra menos observaciones sobre una caracteristica x y le costara mas predecirla en el caso de un problema binario.\n",
        "\n",
        "---\n",
        "\n"
      ]
    },
    {
      "cell_type": "markdown",
      "metadata": {
        "id": "iD8GiEgyYOjK"
      },
      "source": [
        "### Pregunta 1.8\n",
        "\n",
        "El df contiene variables con missing values (`NaN`). Impute los `NaN` con el método que estime conveniente, justificando su decisión.\n",
        "\n",
        "¿Es pertinente eliminar alguna de estas variables? Hágalo si es el caso."
      ]
    },
    {
      "cell_type": "code",
      "execution_count": 7,
      "metadata": {
        "colab": {
          "base_uri": "https://localhost:8080/",
          "height": 774
        },
        "id": "BIgxqtYKZ4xi",
        "outputId": "97efbd64-b7f0-4e50-b0ce-16aa8dc53e12"
      },
      "outputs": [
        {
          "data": {
            "text/plain": [
              "Climate                               22\n",
              "Literacy (%)                          18\n",
              "Industry                              16\n",
              "Agriculture                           15\n",
              "Service                               15\n",
              "Phones (per 1000)                      4\n",
              "Deathrate                              4\n",
              "Birthrate                              3\n",
              "Infant mortality (per 1000 births)     3\n",
              "Net migration                          3\n",
              "Other (%)                              2\n",
              "Arable (%)                             2\n",
              "Crops (%)                              2\n",
              "GDP ($ per capita)                     1\n",
              "Pop. Density (per sq. mi.)             0\n",
              "Area (sq. mi.)                         0\n",
              "Population                             0\n",
              "Region                                 0\n",
              "Country                                0\n",
              "date                                   0\n",
              "Coastline (coast/area ratio)           0\n",
              "LnPopulation                           0\n",
              "dtype: int64"
            ]
          },
          "execution_count": 7,
          "metadata": {},
          "output_type": "execute_result"
        }
      ],
      "source": [
        "df.isnull().sum().sort_values(ascending=False)  # Se ordena de manera descendente"
      ]
    },
    {
      "cell_type": "code",
      "execution_count": 8,
      "metadata": {
        "colab": {
          "base_uri": "https://localhost:8080/",
          "height": 774
        },
        "collapsed": true,
        "id": "14jkkC8-W4if",
        "outputId": "2be6609a-2642-4bc7-bcdd-38a21f55e612"
      },
      "outputs": [
        {
          "data": {
            "text/plain": [
              "Climate                               9.691630\n",
              "Literacy (%)                          7.929515\n",
              "Industry                              7.048458\n",
              "Service                               6.607930\n",
              "Agriculture                           6.607930\n",
              "Deathrate                             1.762115\n",
              "Phones (per 1000)                     1.762115\n",
              "Net migration                         1.321586\n",
              "Infant mortality (per 1000 births)    1.321586\n",
              "Birthrate                             1.321586\n",
              "Other (%)                             0.881057\n",
              "Crops (%)                             0.881057\n",
              "Arable (%)                            0.881057\n",
              "GDP ($ per capita)                    0.440529\n",
              "Coastline (coast/area ratio)          0.000000\n",
              "Area (sq. mi.)                        0.000000\n",
              "LnPopulation                          0.000000\n",
              "Country                               0.000000\n",
              "Pop. Density (per sq. mi.)            0.000000\n",
              "Population                            0.000000\n",
              "Region                                0.000000\n",
              "date                                  0.000000\n",
              "dtype: float64"
            ]
          },
          "execution_count": 8,
          "metadata": {},
          "output_type": "execute_result"
        }
      ],
      "source": [
        "# Guardamos un Ranking de missings\n",
        "total_missings = df.isnull().sum().sort_values(ascending=False)  # Total missings por columna ordenados del mayor al menor\n",
        "# Cantidad de filas totales de todas las columnas se guarda en la variable total_datos\n",
        "total_datos = df.isnull().count()\n",
        "\n",
        "# Porcentaje de missings con respecto al total\n",
        "percent_missings = (total_missings/total_datos).sort_values(ascending=False)*100\n",
        "percent_missings  # Observamos"
      ]
    },
    {
      "cell_type": "code",
      "execution_count": 9,
      "metadata": {},
      "outputs": [
        {
          "data": {
            "text/html": [
              "<div>\n",
              "<style scoped>\n",
              "    .dataframe tbody tr th:only-of-type {\n",
              "        vertical-align: middle;\n",
              "    }\n",
              "\n",
              "    .dataframe tbody tr th {\n",
              "        vertical-align: top;\n",
              "    }\n",
              "\n",
              "    .dataframe thead th {\n",
              "        text-align: right;\n",
              "    }\n",
              "</style>\n",
              "<table border=\"1\" class=\"dataframe\">\n",
              "  <thead>\n",
              "    <tr style=\"text-align: right;\">\n",
              "      <th></th>\n",
              "      <th>Total</th>\n",
              "      <th>Percent</th>\n",
              "    </tr>\n",
              "  </thead>\n",
              "  <tbody>\n",
              "    <tr>\n",
              "      <th>Climate</th>\n",
              "      <td>22</td>\n",
              "      <td>9.691630</td>\n",
              "    </tr>\n",
              "    <tr>\n",
              "      <th>Literacy (%)</th>\n",
              "      <td>18</td>\n",
              "      <td>7.929515</td>\n",
              "    </tr>\n",
              "    <tr>\n",
              "      <th>Industry</th>\n",
              "      <td>16</td>\n",
              "      <td>7.048458</td>\n",
              "    </tr>\n",
              "    <tr>\n",
              "      <th>Agriculture</th>\n",
              "      <td>15</td>\n",
              "      <td>6.607930</td>\n",
              "    </tr>\n",
              "    <tr>\n",
              "      <th>Service</th>\n",
              "      <td>15</td>\n",
              "      <td>6.607930</td>\n",
              "    </tr>\n",
              "    <tr>\n",
              "      <th>Phones (per 1000)</th>\n",
              "      <td>4</td>\n",
              "      <td>1.762115</td>\n",
              "    </tr>\n",
              "    <tr>\n",
              "      <th>Deathrate</th>\n",
              "      <td>4</td>\n",
              "      <td>1.762115</td>\n",
              "    </tr>\n",
              "    <tr>\n",
              "      <th>Birthrate</th>\n",
              "      <td>3</td>\n",
              "      <td>1.321586</td>\n",
              "    </tr>\n",
              "    <tr>\n",
              "      <th>Infant mortality (per 1000 births)</th>\n",
              "      <td>3</td>\n",
              "      <td>1.321586</td>\n",
              "    </tr>\n",
              "    <tr>\n",
              "      <th>Net migration</th>\n",
              "      <td>3</td>\n",
              "      <td>1.321586</td>\n",
              "    </tr>\n",
              "    <tr>\n",
              "      <th>Other (%)</th>\n",
              "      <td>2</td>\n",
              "      <td>0.881057</td>\n",
              "    </tr>\n",
              "    <tr>\n",
              "      <th>Arable (%)</th>\n",
              "      <td>2</td>\n",
              "      <td>0.881057</td>\n",
              "    </tr>\n",
              "    <tr>\n",
              "      <th>Crops (%)</th>\n",
              "      <td>2</td>\n",
              "      <td>0.881057</td>\n",
              "    </tr>\n",
              "    <tr>\n",
              "      <th>GDP ($ per capita)</th>\n",
              "      <td>1</td>\n",
              "      <td>0.440529</td>\n",
              "    </tr>\n",
              "    <tr>\n",
              "      <th>Pop. Density (per sq. mi.)</th>\n",
              "      <td>0</td>\n",
              "      <td>0.000000</td>\n",
              "    </tr>\n",
              "    <tr>\n",
              "      <th>Area (sq. mi.)</th>\n",
              "      <td>0</td>\n",
              "      <td>0.000000</td>\n",
              "    </tr>\n",
              "    <tr>\n",
              "      <th>Population</th>\n",
              "      <td>0</td>\n",
              "      <td>0.000000</td>\n",
              "    </tr>\n",
              "    <tr>\n",
              "      <th>Region</th>\n",
              "      <td>0</td>\n",
              "      <td>0.000000</td>\n",
              "    </tr>\n",
              "    <tr>\n",
              "      <th>Country</th>\n",
              "      <td>0</td>\n",
              "      <td>0.000000</td>\n",
              "    </tr>\n",
              "    <tr>\n",
              "      <th>date</th>\n",
              "      <td>0</td>\n",
              "      <td>0.000000</td>\n",
              "    </tr>\n",
              "    <tr>\n",
              "      <th>Coastline (coast/area ratio)</th>\n",
              "      <td>0</td>\n",
              "      <td>0.000000</td>\n",
              "    </tr>\n",
              "    <tr>\n",
              "      <th>LnPopulation</th>\n",
              "      <td>0</td>\n",
              "      <td>0.000000</td>\n",
              "    </tr>\n",
              "  </tbody>\n",
              "</table>\n",
              "</div>"
            ],
            "text/plain": [
              "                                    Total   Percent\n",
              "Climate                                22  9.691630\n",
              "Literacy (%)                           18  7.929515\n",
              "Industry                               16  7.048458\n",
              "Agriculture                            15  6.607930\n",
              "Service                                15  6.607930\n",
              "Phones (per 1000)                       4  1.762115\n",
              "Deathrate                               4  1.762115\n",
              "Birthrate                               3  1.321586\n",
              "Infant mortality (per 1000 births)      3  1.321586\n",
              "Net migration                           3  1.321586\n",
              "Other (%)                               2  0.881057\n",
              "Arable (%)                              2  0.881057\n",
              "Crops (%)                               2  0.881057\n",
              "GDP ($ per capita)                      1  0.440529\n",
              "Pop. Density (per sq. mi.)              0  0.000000\n",
              "Area (sq. mi.)                          0  0.000000\n",
              "Population                              0  0.000000\n",
              "Region                                  0  0.000000\n",
              "Country                                 0  0.000000\n",
              "date                                    0  0.000000\n",
              "Coastline (coast/area ratio)            0  0.000000\n",
              "LnPopulation                            0  0.000000"
            ]
          },
          "execution_count": 9,
          "metadata": {},
          "output_type": "execute_result"
        }
      ],
      "source": [
        "# Unimos tablas de Nro. de *missings* y su *porcentaje* respectivo\n",
        "# a través de la columnas (axis = 1), y las nombramos \"Total\" y \"Percent\"\n",
        "missing_data = pd.concat([total_missings, percent_missings], axis=1, keys=['Total', 'Percent'])\n",
        "missing_data"
      ]
    },
    {
      "cell_type": "code",
      "execution_count": 9,
      "metadata": {
        "id": "mOSVUcIIRbCK"
      },
      "outputs": [],
      "source": [
        "# Imputación de valores faltantes\n",
        "df['GDP ($ per capita)'].fillna(df['GDP ($ per capita)'].median(), inplace=True)\n",
        "df['Phones (per 1000)'].fillna(df['Phones (per 1000)'].mean(), inplace=True)\n",
        "df['Arable (%)'].fillna(df['Arable (%)'].mean(), inplace=True)\n",
        "df['Crops (%)'].fillna(df['Crops (%)'].mean(), inplace=True)\n",
        "\n",
        "df['Net migration'].fillna(df['Net migration'].mode()[0], inplace=True)\n",
        "df['Birthrate'].fillna(df['Birthrate'].mode()[0], inplace=True)\n",
        "df['Infant mortality (per 1000 births)'].fillna(df['Infant mortality (per 1000 births)'].mode()[0], inplace=True)\n",
        "\n",
        "df['Deathrate'].fillna(df['Deathrate'].mean(), inplace=True)\n",
        "df['Literacy (%)'].fillna(df['Literacy (%)'].mean(), inplace=True)\n",
        "df['Agriculture'].fillna(df['Agriculture'].mean(), inplace=True)\n",
        "df['Service'].fillna(df['Service'].mean(), inplace=True)\n",
        "df['Climate'].fillna(df['Climate'].mode()[0], inplace=True)\n",
        "df['Industry'].fillna(df['Industry'].mean(), inplace=True)\n",
        "df['Other (%)'].fillna(df['Other (%)'].median(), inplace=True)"
      ]
    },
    {
      "cell_type": "code",
      "execution_count": null,
      "metadata": {},
      "outputs": [],
      "source": [
        "\n",
        "###df = df.dropna(subset=['col1', 'col2', 'col3'], how='all')\n",
        "# Reemplazar valores nulos por el promedio de cada columna\n",
        "##df = df.apply(lambda x: x.fillna(x.mean()) if x.dtype in [\"float64\", \"int64\"] else x)\n"
      ]
    },
    {
      "cell_type": "code",
      "execution_count": 10,
      "metadata": {
        "colab": {
          "base_uri": "https://localhost:8080/",
          "height": 774
        },
        "id": "wE_J63adRgPJ",
        "outputId": "32cc01b5-776f-440d-aebf-e71b5224ce5b"
      },
      "outputs": [
        {
          "data": {
            "text/plain": [
              "date                                  0\n",
              "Country                               0\n",
              "Region                                0\n",
              "Population                            0\n",
              "Area (sq. mi.)                        0\n",
              "Pop. Density (per sq. mi.)            0\n",
              "Coastline (coast/area ratio)          0\n",
              "Net migration                         0\n",
              "Infant mortality (per 1000 births)    0\n",
              "GDP ($ per capita)                    0\n",
              "Literacy (%)                          0\n",
              "Phones (per 1000)                     0\n",
              "Arable (%)                            0\n",
              "Crops (%)                             0\n",
              "Other (%)                             0\n",
              "Climate                               0\n",
              "Birthrate                             0\n",
              "Deathrate                             0\n",
              "Agriculture                           0\n",
              "Industry                              0\n",
              "Service                               0\n",
              "LnPopulation                          0\n",
              "dtype: int64"
            ]
          },
          "execution_count": 10,
          "metadata": {},
          "output_type": "execute_result"
        }
      ],
      "source": [
        "df.isnull().sum()"
      ]
    },
    {
      "cell_type": "markdown",
      "metadata": {
        "id": "YnrIjyd3s4B_"
      },
      "source": [
        "\n",
        "\n",
        "\n",
        "---\n",
        "\n",
        "\n",
        "*Escriba* su respuesta y **justificación** en esta celda...\n",
        "\n",
        "\n",
        "---\n"
      ]
    },
    {
      "cell_type": "markdown",
      "metadata": {
        "id": "1iIjVTdTZ5ZP"
      },
      "source": [
        "### Pregunta 1.9\n",
        "\n",
        "¿Cómo distribuye el `GDP ($ per capita)` en diferentes **regiones**? Defina una forma ilustrativa de gráficar el `GDP ($ per capita)` para todas las regiones en un mismo gráfico. Interprételo."
      ]
    },
    {
      "cell_type": "code",
      "execution_count": 11,
      "metadata": {
        "colab": {
          "base_uri": "https://localhost:8080/",
          "height": 394
        },
        "id": "tQDcJQyL_dB3",
        "outputId": "177945c7-5e03-43bd-8a8e-015f4694238f"
      },
      "outputs": [
        {
          "data": {
            "text/html": [
              "<div>\n",
              "<style scoped>\n",
              "    .dataframe tbody tr th:only-of-type {\n",
              "        vertical-align: middle;\n",
              "    }\n",
              "\n",
              "    .dataframe tbody tr th {\n",
              "        vertical-align: top;\n",
              "    }\n",
              "\n",
              "    .dataframe thead tr th {\n",
              "        text-align: left;\n",
              "    }\n",
              "</style>\n",
              "<table border=\"1\" class=\"dataframe\">\n",
              "  <thead>\n",
              "    <tr>\n",
              "      <th></th>\n",
              "      <th>Region</th>\n",
              "      <th colspan=\"8\" halign=\"left\">GDP ($ per capita)</th>\n",
              "    </tr>\n",
              "    <tr>\n",
              "      <th></th>\n",
              "      <th></th>\n",
              "      <th>count</th>\n",
              "      <th>mean</th>\n",
              "      <th>std</th>\n",
              "      <th>min</th>\n",
              "      <th>25%</th>\n",
              "      <th>50%</th>\n",
              "      <th>75%</th>\n",
              "      <th>max</th>\n",
              "    </tr>\n",
              "  </thead>\n",
              "  <tbody>\n",
              "    <tr>\n",
              "      <th>0</th>\n",
              "      <td>ASIA (EX. NEAR EAST)</td>\n",
              "      <td>28.0</td>\n",
              "      <td>8053.571429</td>\n",
              "      <td>9166.787156</td>\n",
              "      <td>500.0</td>\n",
              "      <td>1800.0</td>\n",
              "      <td>3450.0</td>\n",
              "      <td>11200.0</td>\n",
              "      <td>28800.0</td>\n",
              "    </tr>\n",
              "    <tr>\n",
              "      <th>1</th>\n",
              "      <td>BALTICS</td>\n",
              "      <td>3.0</td>\n",
              "      <td>11300.000000</td>\n",
              "      <td>1053.565375</td>\n",
              "      <td>10200.0</td>\n",
              "      <td>10800.0</td>\n",
              "      <td>11400.0</td>\n",
              "      <td>11850.0</td>\n",
              "      <td>12300.0</td>\n",
              "    </tr>\n",
              "    <tr>\n",
              "      <th>2</th>\n",
              "      <td>C.W. OF IND. STATES</td>\n",
              "      <td>12.0</td>\n",
              "      <td>4000.000000</td>\n",
              "      <td>2461.706725</td>\n",
              "      <td>1000.0</td>\n",
              "      <td>1775.0</td>\n",
              "      <td>3450.0</td>\n",
              "      <td>5875.0</td>\n",
              "      <td>8900.0</td>\n",
              "    </tr>\n",
              "    <tr>\n",
              "      <th>3</th>\n",
              "      <td>EASTERN EUROPE</td>\n",
              "      <td>12.0</td>\n",
              "      <td>9808.333333</td>\n",
              "      <td>4978.765516</td>\n",
              "      <td>2200.0</td>\n",
              "      <td>6550.0</td>\n",
              "      <td>9100.0</td>\n",
              "      <td>13450.0</td>\n",
              "      <td>19000.0</td>\n",
              "    </tr>\n",
              "    <tr>\n",
              "      <th>4</th>\n",
              "      <td>LATIN AMER. &amp; CARIB</td>\n",
              "      <td>45.0</td>\n",
              "      <td>8682.222222</td>\n",
              "      <td>6658.463134</td>\n",
              "      <td>1600.0</td>\n",
              "      <td>4100.0</td>\n",
              "      <td>6300.0</td>\n",
              "      <td>11000.0</td>\n",
              "      <td>35000.0</td>\n",
              "    </tr>\n",
              "    <tr>\n",
              "      <th>5</th>\n",
              "      <td>NEAR EAST</td>\n",
              "      <td>16.0</td>\n",
              "      <td>10456.250000</td>\n",
              "      <td>8447.876952</td>\n",
              "      <td>600.0</td>\n",
              "      <td>2850.0</td>\n",
              "      <td>9250.0</td>\n",
              "      <td>19050.0</td>\n",
              "      <td>23200.0</td>\n",
              "    </tr>\n",
              "    <tr>\n",
              "      <th>6</th>\n",
              "      <td>NORTHERN AFRICA</td>\n",
              "      <td>6.0</td>\n",
              "      <td>5475.000000</td>\n",
              "      <td>1226.274847</td>\n",
              "      <td>4000.0</td>\n",
              "      <td>4387.5</td>\n",
              "      <td>5775.0</td>\n",
              "      <td>6300.0</td>\n",
              "      <td>6900.0</td>\n",
              "    </tr>\n",
              "    <tr>\n",
              "      <th>7</th>\n",
              "      <td>NORTHERN AMERICA</td>\n",
              "      <td>5.0</td>\n",
              "      <td>26100.000000</td>\n",
              "      <td>12791.012470</td>\n",
              "      <td>6900.0</td>\n",
              "      <td>20000.0</td>\n",
              "      <td>29800.0</td>\n",
              "      <td>36000.0</td>\n",
              "      <td>37800.0</td>\n",
              "    </tr>\n",
              "    <tr>\n",
              "      <th>8</th>\n",
              "      <td>OCEANIA</td>\n",
              "      <td>21.0</td>\n",
              "      <td>8247.619048</td>\n",
              "      <td>8095.221989</td>\n",
              "      <td>800.0</td>\n",
              "      <td>2200.0</td>\n",
              "      <td>5000.0</td>\n",
              "      <td>12500.0</td>\n",
              "      <td>29000.0</td>\n",
              "    </tr>\n",
              "    <tr>\n",
              "      <th>9</th>\n",
              "      <td>SUB-SAHARAN AFRICA</td>\n",
              "      <td>51.0</td>\n",
              "      <td>2323.529412</td>\n",
              "      <td>2614.084026</td>\n",
              "      <td>500.0</td>\n",
              "      <td>800.0</td>\n",
              "      <td>1300.0</td>\n",
              "      <td>2150.0</td>\n",
              "      <td>11400.0</td>\n",
              "    </tr>\n",
              "    <tr>\n",
              "      <th>10</th>\n",
              "      <td>WESTERN EUROPE</td>\n",
              "      <td>28.0</td>\n",
              "      <td>27046.428571</td>\n",
              "      <td>7618.859745</td>\n",
              "      <td>17500.0</td>\n",
              "      <td>21750.0</td>\n",
              "      <td>27200.0</td>\n",
              "      <td>29700.0</td>\n",
              "      <td>55100.0</td>\n",
              "    </tr>\n",
              "  </tbody>\n",
              "</table>\n",
              "</div>"
            ],
            "text/plain": [
              "                                 Region GDP ($ per capita)                \\\n",
              "                                                     count          mean   \n",
              "0         ASIA (EX. NEAR EAST)                        28.0   8053.571429   \n",
              "1   BALTICS                                            3.0  11300.000000   \n",
              "2                  C.W. OF IND. STATES                12.0   4000.000000   \n",
              "3   EASTERN EUROPE                                    12.0   9808.333333   \n",
              "4               LATIN AMER. & CARIB                   45.0   8682.222222   \n",
              "5   NEAR EAST                                         16.0  10456.250000   \n",
              "6   NORTHERN AFRICA                                    6.0   5475.000000   \n",
              "7   NORTHERN AMERICA                                   5.0  26100.000000   \n",
              "8   OCEANIA                                           21.0   8247.619048   \n",
              "9   SUB-SAHARAN AFRICA                                51.0   2323.529412   \n",
              "10  WESTERN EUROPE                                    28.0  27046.428571   \n",
              "\n",
              "                                                               \n",
              "             std      min      25%      50%      75%      max  \n",
              "0    9166.787156    500.0   1800.0   3450.0  11200.0  28800.0  \n",
              "1    1053.565375  10200.0  10800.0  11400.0  11850.0  12300.0  \n",
              "2    2461.706725   1000.0   1775.0   3450.0   5875.0   8900.0  \n",
              "3    4978.765516   2200.0   6550.0   9100.0  13450.0  19000.0  \n",
              "4    6658.463134   1600.0   4100.0   6300.0  11000.0  35000.0  \n",
              "5    8447.876952    600.0   2850.0   9250.0  19050.0  23200.0  \n",
              "6    1226.274847   4000.0   4387.5   5775.0   6300.0   6900.0  \n",
              "7   12791.012470   6900.0  20000.0  29800.0  36000.0  37800.0  \n",
              "8    8095.221989    800.0   2200.0   5000.0  12500.0  29000.0  \n",
              "9    2614.084026    500.0    800.0   1300.0   2150.0  11400.0  \n",
              "10   7618.859745  17500.0  21750.0  27200.0  29700.0  55100.0  "
            ]
          },
          "execution_count": 11,
          "metadata": {},
          "output_type": "execute_result"
        }
      ],
      "source": [
        "#Ideas\n",
        "df.groupby([\"Region\"])[[\"GDP ($ per capita)\"]].mean().reset_index()\n",
        "\n",
        "df.groupby([\"Region\"])[[\"GDP ($ per capita)\"]].describe().reset_index()"
      ]
    },
    {
      "cell_type": "code",
      "execution_count": 12,
      "metadata": {
        "colab": {
          "base_uri": "https://localhost:8080/",
          "height": 607
        },
        "id": "Bw9ZTqw-60f-",
        "outputId": "cbbbea4a-9354-4a5d-b3ce-49c5a857a8aa"
      },
      "outputs": [
        {
          "data": {
            "image/png": "[encoded data removed]",
            "text/plain": [
              "<Figure size 2000x1000 with 1 Axes>"
            ]
          },
          "metadata": {},
          "output_type": "display_data"
        }
      ],
      "source": [
        "# Creamos el boxplot de GDP per capita por región\n",
        "plt.figure(figsize=(20,10))\n",
        "sns.boxplot(data=df, x='Region', y='GDP ($ per capita)', palette='Set2')\n",
        "\n",
        "# Agregamos título y etiquetas\n",
        "plt.title('Distribución del GDP per capita por Región', fontsize=16)\n",
        "plt.xlabel('Región', fontsize=14)\n",
        "plt.ylabel('GDP per capita ($)', fontsize=14)\n",
        "plt.xticks(rotation=90)\n",
        "\n",
        "plt.tight_layout()\n",
        "plt.show()\n"
      ]
    },
    {
      "cell_type": "code",
      "execution_count": 13,
      "metadata": {},
      "outputs": [
        {
          "data": {
            "image/png": "[encoded data removed]",
            "text/plain": [
              "<Figure size 2000x1000 with 1 Axes>"
            ]
          },
          "metadata": {},
          "output_type": "display_data"
        }
      ],
      "source": [
        "# Grafico de Violin\n",
        "# Ajustar el tamaño del gráfico\n",
        "plt.figure(figsize=(20,10))\n",
        "\n",
        "# Crear el gráfico de violín\n",
        "sns.violinplot(data=df, x=\"Region\", y=\"GDP ($ per capita)\", inner=\"quartile\", palette=\"coolwarm\")\n",
        "\n",
        "plt.xticks(rotation=45)\n",
        "\n",
        "# Etiquetas y título\n",
        "plt.xlabel(\"Región\")\n",
        "plt.ylabel(\"GDP ($ per capita)\")\n",
        "plt.title(\"Distribución del GDP ($ per capita) por Región\")\n",
        "\n",
        "# Mostrar el gráfico\n",
        "plt.show()"
      ]
    },
    {
      "cell_type": "markdown",
      "metadata": {
        "id": "5wFdt20OzKDu"
      },
      "source": [
        "\n",
        "\n",
        "\n",
        "---\n",
        "\n",
        "\n",
        "Los distintos graficos evidencian  disparidades entre las regiones del mundo. En regiones como Europa Occidental y América del Norte, los datos muestran economías prósperas con medianas elevadas, pero también una marcada variabilidad entre sus países. Esto indica que, aunque estas zonas albergan algunas de las naciones más ricas del planeta, también presentan diferencias significativas en los niveles de riqueza entre sus miembros.\n",
        "\n",
        "Por el contrario, regiones como África Subsahariana presenta una distribución mucho más concentrada en los rangos bajos de ingresos. Aquí, la homogeneidad en los datos no refleja equidad, sino más bien la prevalencia generalizada de economías con limitado desarrollo. La ausencia de colas extensas en estas distribuciones sugiere que son pocos los países que escapan de esta tendencia de bajos ingresos.\n",
        "\n",
        "Resulta particularmente llamativo cómo ciertos valores extremos distorsionan el panorama regional. Las economías más robustas de Europa Occidental y América del Norte elevan considerablemente los máximos de sus distribuciones, creando un contraste evidente con otras partes del mundo. Este fenómeno no solo resalta la brecha entre regiones, sino también las notables diferencias que pueden existir incluso dentro de bloques considerados económicamente privilegiados.\n",
        "\n",
        "\n",
        "---\n"
      ]
    },
    {
      "cell_type": "markdown",
      "metadata": {
        "id": "WC5M0JqWwBuH"
      },
      "source": [
        "### Pregunta 1.10\n",
        "\n",
        "Supongamos que `GDP ($ per capita)` es su variable objetivo. Estudie la correlación de esta variable con el resto de las variables del `df`. ¿Por qué es importante analizar la correlación entre las variables?\n",
        "\n"
      ]
    },
    {
      "cell_type": "code",
      "execution_count": null,
      "metadata": {
        "colab": {
          "base_uri": "https://localhost:8080/",
          "height": 711
        },
        "collapsed": true,
        "id": "PVrRI21D2mP2",
        "outputId": "8b606249-627b-420c-cf03-6a18da166d24"
      },
      "outputs": [],
      "source": [
        "corr = df[df.dtypes[df.dtypes != \"object\"].index].corr()[\"GDP ($ per capita)\"].sort_values(ascending=False)\n",
        "corr"
      ]
    },
    {
      "cell_type": "code",
      "execution_count": null,
      "metadata": {},
      "outputs": [],
      "source": [
        "corr_abs = corr.abs().sort_values(ascending=False)\n",
        "corr_abs"
      ]
    },
    {
      "cell_type": "code",
      "execution_count": null,
      "metadata": {},
      "outputs": [],
      "source": [
        "numeric_df = df[df.dtypes[df.dtypes != \"object\"].index]\n",
        "corr_matrix = numeric_df.corr()\n",
        "\n",
        "# Crear el mapa de calor\n",
        "plt.figure(figsize=(15, 15))\n",
        "sns.heatmap(corr_matrix, annot=True, cmap='coolwarm', fmt=\".2f\", linewidths=0.5)\n",
        "\n",
        "# Mostrar el gráfico\n",
        "plt.title(\"Mapa de Calor de Correlación\")\n",
        "plt.show()\n"
      ]
    },
    {
      "cell_type": "code",
      "execution_count": null,
      "metadata": {},
      "outputs": [],
      "source": [
        "\n",
        "# Seleccionar solo variables numéricas\n",
        "df_numeric = df.select_dtypes(include=[\"number\"])\n",
        "\n",
        "# Calcular la matriz de correlación solo con variables numéricas\n",
        "correlation_matrix = df_numeric.corr()\n",
        "\n",
        "# Filtrar solo la correlación con GDP ($ per capita)\n",
        "correlation_gdp = correlation_matrix[[\"GDP ($ per capita)\"]].sort_values(by=\"GDP ($ per capita)\", ascending=False)\n",
        "\n",
        "# Configurar la figura del heatmap\n",
        "plt.figure(figsize=(8,6))\n",
        "sns.heatmap(correlation_gdp, annot=True, cmap=\"coolwarm\", vmin=-1, vmax=1, linewidths=0.5)\n",
        "\n",
        "# Título\n",
        "plt.title(\"Correlación entre GDP ($ per capita) y variables numéricas\")\n",
        "\n",
        "# Mostrar el gráfico\n",
        "plt.show()"
      ]
    },
    {
      "cell_type": "markdown",
      "metadata": {
        "id": "6zal0Jvbzbsi"
      },
      "source": [
        "\n",
        "---\n",
        "\n",
        "Analizar la correlación entre las variables es fundamental para entender cómo se relacionan entre sí y qué impacto pueden tener en un modelo. Identificar relaciones significativas no solo ayuda a seleccionar las variables más relevantes, sino que también permite evitar problemas como la multicolinealidad, que puede afectar la estabilidad y precisión de los modelos predictivos. Además, comprender estas conexiones facilita la interpretación de los resultados, permitiendo extraer conclusiones más claras sobre cómo ciertos factores influyen en las predicciones.\n",
        "\n",
        "---\n"
      ]
    },
    {
      "cell_type": "markdown",
      "metadata": {
        "id": "lATF2XHrwsW_"
      },
      "source": [
        "### Pregunta 1.11\n",
        "\n",
        "Realice tres _scatterplots_ (uno por variable) de las tres variables con la mayor correlación con la variable objetivo.\n",
        "\n",
        "Utilizando los parámetros de la función con la que hizo los _scatterplots_, coloque un título a cada gráfico y agregue colores a los _data points_ del _scatterplot_- Use colores diferentes por cada gráfico."
      ]
    },
    {
      "cell_type": "code",
      "execution_count": null,
      "metadata": {
        "colab": {
          "base_uri": "https://localhost:8080/",
          "height": 413
        },
        "collapsed": true,
        "id": "br1EGfvtZibR",
        "outputId": "1c77861d-e27f-4a87-8b50-b6f15045a3cc"
      },
      "outputs": [],
      "source": [
        "var = ['Phones (per 1000)', 'Birthrate', 'Infant mortality (per 1000 births)']\n",
        "\n",
        "plt.figure(figsize=(15, 5))\n",
        "\n",
        "for i, variable in enumerate(var, 1):\n",
        "    plt.subplot(1, 3, i)  # Crear subgráficos en una fila y tres columnas\n",
        "    df.plot.scatter(x=variable, y=\"GDP ($ per capita)\", ax=plt.gca(), color=plt.cm.viridis(i / len(var)))  # Cambiar colores\n",
        "    plt.title(f'Scatterplot: GDP vs {variable}', fontsize=14)\n",
        "    plt.xlabel(variable, fontsize=12)\n",
        "    plt.ylabel('GDP ($ per capita)', fontsize=12)\n",
        "\n",
        "plt.tight_layout()\n",
        "plt.show()"
      ]
    },
    {
      "cell_type": "markdown",
      "metadata": {
        "id": "OaNST_hs9_yO"
      },
      "source": [
        "### Pregunta 1.12\n",
        "\n",
        "Cree una nueva columna `GDP (%)` que represente el GDP total de cada pais (no per capita) y agreguela al dataframe."
      ]
    },
    {
      "cell_type": "code",
      "execution_count": 14,
      "metadata": {
        "colab": {
          "base_uri": "https://localhost:8080/",
          "height": 429
        },
        "collapsed": true,
        "id": "aGnKADjl9-0c",
        "outputId": "88ba6eef-9b02-4608-d858-b5c0f90b2fac"
      },
      "outputs": [
        {
          "data": {
            "text/html": [
              "<div>\n",
              "<style scoped>\n",
              "    .dataframe tbody tr th:only-of-type {\n",
              "        vertical-align: middle;\n",
              "    }\n",
              "\n",
              "    .dataframe tbody tr th {\n",
              "        vertical-align: top;\n",
              "    }\n",
              "\n",
              "    .dataframe thead th {\n",
              "        text-align: right;\n",
              "    }\n",
              "</style>\n",
              "<table border=\"1\" class=\"dataframe\">\n",
              "  <thead>\n",
              "    <tr style=\"text-align: right;\">\n",
              "      <th></th>\n",
              "      <th>date</th>\n",
              "      <th>Country</th>\n",
              "      <th>Region</th>\n",
              "      <th>Population</th>\n",
              "      <th>Area (sq. mi.)</th>\n",
              "      <th>Pop. Density (per sq. mi.)</th>\n",
              "      <th>Coastline (coast/area ratio)</th>\n",
              "      <th>Net migration</th>\n",
              "      <th>Infant mortality (per 1000 births)</th>\n",
              "      <th>GDP ($ per capita)</th>\n",
              "      <th>...</th>\n",
              "      <th>Crops (%)</th>\n",
              "      <th>Other (%)</th>\n",
              "      <th>Climate</th>\n",
              "      <th>Birthrate</th>\n",
              "      <th>Deathrate</th>\n",
              "      <th>Agriculture</th>\n",
              "      <th>Industry</th>\n",
              "      <th>Service</th>\n",
              "      <th>LnPopulation</th>\n",
              "      <th>GDP ($)</th>\n",
              "    </tr>\n",
              "  </thead>\n",
              "  <tbody>\n",
              "    <tr>\n",
              "      <th>0</th>\n",
              "      <td>2007-01-01</td>\n",
              "      <td>Afghanistan</td>\n",
              "      <td>ASIA (EX. NEAR EAST)</td>\n",
              "      <td>31056997</td>\n",
              "      <td>647500</td>\n",
              "      <td>48.0</td>\n",
              "      <td>0.00</td>\n",
              "      <td>23.06</td>\n",
              "      <td>163.07</td>\n",
              "      <td>700.0</td>\n",
              "      <td>...</td>\n",
              "      <td>0.22</td>\n",
              "      <td>87.65</td>\n",
              "      <td>1.0</td>\n",
              "      <td>46.60</td>\n",
              "      <td>20.34</td>\n",
              "      <td>0.380000</td>\n",
              "      <td>0.240000</td>\n",
              "      <td>0.380000</td>\n",
              "      <td>17.251335</td>\n",
              "      <td>2.173990e+10</td>\n",
              "    </tr>\n",
              "    <tr>\n",
              "      <th>1</th>\n",
              "      <td>2007-01-01</td>\n",
              "      <td>Albania</td>\n",
              "      <td>EASTERN EUROPE</td>\n",
              "      <td>3581655</td>\n",
              "      <td>28748</td>\n",
              "      <td>124.6</td>\n",
              "      <td>1.26</td>\n",
              "      <td>-4.93</td>\n",
              "      <td>21.52</td>\n",
              "      <td>4500.0</td>\n",
              "      <td>...</td>\n",
              "      <td>4.42</td>\n",
              "      <td>74.49</td>\n",
              "      <td>3.0</td>\n",
              "      <td>15.11</td>\n",
              "      <td>5.22</td>\n",
              "      <td>0.232000</td>\n",
              "      <td>0.188000</td>\n",
              "      <td>0.579000</td>\n",
              "      <td>15.091336</td>\n",
              "      <td>1.611745e+10</td>\n",
              "    </tr>\n",
              "    <tr>\n",
              "      <th>2</th>\n",
              "      <td>2007-01-01</td>\n",
              "      <td>Algeria</td>\n",
              "      <td>NORTHERN AFRICA</td>\n",
              "      <td>32930091</td>\n",
              "      <td>2381740</td>\n",
              "      <td>13.8</td>\n",
              "      <td>0.04</td>\n",
              "      <td>-0.39</td>\n",
              "      <td>31.00</td>\n",
              "      <td>6000.0</td>\n",
              "      <td>...</td>\n",
              "      <td>0.25</td>\n",
              "      <td>96.53</td>\n",
              "      <td>1.0</td>\n",
              "      <td>17.14</td>\n",
              "      <td>4.61</td>\n",
              "      <td>0.101000</td>\n",
              "      <td>0.600000</td>\n",
              "      <td>0.298000</td>\n",
              "      <td>17.309897</td>\n",
              "      <td>1.975805e+11</td>\n",
              "    </tr>\n",
              "    <tr>\n",
              "      <th>3</th>\n",
              "      <td>2007-01-01</td>\n",
              "      <td>American Samoa</td>\n",
              "      <td>OCEANIA</td>\n",
              "      <td>57794</td>\n",
              "      <td>199</td>\n",
              "      <td>290.4</td>\n",
              "      <td>58.29</td>\n",
              "      <td>-20.71</td>\n",
              "      <td>9.27</td>\n",
              "      <td>8000.0</td>\n",
              "      <td>...</td>\n",
              "      <td>15.00</td>\n",
              "      <td>75.00</td>\n",
              "      <td>2.0</td>\n",
              "      <td>22.46</td>\n",
              "      <td>3.27</td>\n",
              "      <td>0.150844</td>\n",
              "      <td>0.282711</td>\n",
              "      <td>0.565283</td>\n",
              "      <td>10.964640</td>\n",
              "      <td>4.623520e+08</td>\n",
              "    </tr>\n",
              "    <tr>\n",
              "      <th>4</th>\n",
              "      <td>2007-01-01</td>\n",
              "      <td>Andorra</td>\n",
              "      <td>WESTERN EUROPE</td>\n",
              "      <td>71201</td>\n",
              "      <td>468</td>\n",
              "      <td>152.1</td>\n",
              "      <td>0.00</td>\n",
              "      <td>6.60</td>\n",
              "      <td>4.05</td>\n",
              "      <td>19000.0</td>\n",
              "      <td>...</td>\n",
              "      <td>0.00</td>\n",
              "      <td>97.78</td>\n",
              "      <td>3.0</td>\n",
              "      <td>8.71</td>\n",
              "      <td>6.25</td>\n",
              "      <td>0.150844</td>\n",
              "      <td>0.282711</td>\n",
              "      <td>0.565283</td>\n",
              "      <td>11.173262</td>\n",
              "      <td>1.352819e+09</td>\n",
              "    </tr>\n",
              "  </tbody>\n",
              "</table>\n",
              "<p>5 rows × 23 columns</p>\n",
              "</div>"
            ],
            "text/plain": [
              "        date          Country                               Region  \\\n",
              "0 2007-01-01     Afghanistan         ASIA (EX. NEAR EAST)            \n",
              "1 2007-01-01         Albania   EASTERN EUROPE                        \n",
              "2 2007-01-01         Algeria   NORTHERN AFRICA                       \n",
              "3 2007-01-01  American Samoa   OCEANIA                               \n",
              "4 2007-01-01         Andorra   WESTERN EUROPE                        \n",
              "\n",
              "   Population  Area (sq. mi.)  Pop. Density (per sq. mi.)  \\\n",
              "0    31056997          647500                        48.0   \n",
              "1     3581655           28748                       124.6   \n",
              "2    32930091         2381740                        13.8   \n",
              "3       57794             199                       290.4   \n",
              "4       71201             468                       152.1   \n",
              "\n",
              "   Coastline (coast/area ratio)  Net migration  \\\n",
              "0                          0.00          23.06   \n",
              "1                          1.26          -4.93   \n",
              "2                          0.04          -0.39   \n",
              "3                         58.29         -20.71   \n",
              "4                          0.00           6.60   \n",
              "\n",
              "   Infant mortality (per 1000 births)  GDP ($ per capita)  ...  Crops (%)  \\\n",
              "0                              163.07               700.0  ...       0.22   \n",
              "1                               21.52              4500.0  ...       4.42   \n",
              "2                               31.00              6000.0  ...       0.25   \n",
              "3                                9.27              8000.0  ...      15.00   \n",
              "4                                4.05             19000.0  ...       0.00   \n",
              "\n",
              "   Other (%)  Climate  Birthrate  Deathrate  Agriculture  Industry   Service  \\\n",
              "0      87.65      1.0      46.60      20.34     0.380000  0.240000  0.380000   \n",
              "1      74.49      3.0      15.11       5.22     0.232000  0.188000  0.579000   \n",
              "2      96.53      1.0      17.14       4.61     0.101000  0.600000  0.298000   \n",
              "3      75.00      2.0      22.46       3.27     0.150844  0.282711  0.565283   \n",
              "4      97.78      3.0       8.71       6.25     0.150844  0.282711  0.565283   \n",
              "\n",
              "   LnPopulation       GDP ($)  \n",
              "0     17.251335  2.173990e+10  \n",
              "1     15.091336  1.611745e+10  \n",
              "2     17.309897  1.975805e+11  \n",
              "3     10.964640  4.623520e+08  \n",
              "4     11.173262  1.352819e+09  \n",
              "\n",
              "[5 rows x 23 columns]"
            ]
          },
          "execution_count": 14,
          "metadata": {},
          "output_type": "execute_result"
        }
      ],
      "source": [
        "df['GDP ($)'] = df['GDP ($ per capita)'] * df['Population']\n",
        "df.head()\n"
      ]
    },
    {
      "cell_type": "markdown",
      "metadata": {
        "id": "ltK6u0NlArvi"
      },
      "source": [
        "### Pregunta 1.13\n",
        "\n",
        "Repita el análisis de correlaciones para `GDP ($)` excluyendo `GDP ($ per capita)` del análisis. ¿Cambian las variables que más correlacionan? Justifique."
      ]
    },
    {
      "cell_type": "code",
      "execution_count": null,
      "metadata": {
        "colab": {
          "base_uri": "https://localhost:8080/",
          "height": 743
        },
        "id": "GwJv7x99cqGV",
        "outputId": "61d3de77-3419-473b-8095-38c2d34cd4f6"
      },
      "outputs": [],
      "source": [
        "#Correlaciones\n",
        "corr_1 = df[df.dtypes[df.dtypes != \"object\"].index].corr()[\"GDP ($)\"].sort_values(ascending=False)\n",
        "corr_1\n",
        "\n"
      ]
    },
    {
      "cell_type": "code",
      "execution_count": null,
      "metadata": {
        "colab": {
          "base_uri": "https://localhost:8080/",
          "height": 711
        },
        "id": "blPtdo1MdJpF",
        "outputId": "2c112696-a87a-49e8-9241-83299e2efe3c"
      },
      "outputs": [],
      "source": [
        "#Correlaciones en valor absoluta\n",
        "corr_abs_1 = corr_1.abs().sort_values(ascending=False)\n",
        "corr_abs_1"
      ]
    },
    {
      "cell_type": "code",
      "execution_count": null,
      "metadata": {},
      "outputs": [],
      "source": [
        "# Seleccionar solo variables numéricas (excluyendo GDP per capita)\n",
        "df_numeric = df.select_dtypes(include=[\"number\"]).drop(columns=[\"GDP ($ per capita)\"])\n",
        "\n",
        "# Calcular la matriz de correlación solo con GDP_total\n",
        "correlation_gdp_total = df_numeric.corr()[[\"GDP ($)\"]].sort_values(by=\"GDP ($)\", ascending=False)\n",
        "\n",
        "# Visualizar con un heatmap\n",
        "plt.figure(figsize=(8,6))\n",
        "sns.heatmap(correlation_gdp_total, annot=True, cmap=\"coolwarm\", vmin=-1, vmax=1, linewidths=0.5)\n",
        "\n",
        "# Título\n",
        "plt.title(\"Correlación entre GDP ($) y variables numéricas\")\n",
        "\n",
        "# Mostrar el gráfico\n",
        "plt.show()"
      ]
    },
    {
      "cell_type": "markdown",
      "metadata": {
        "id": "OVfy1nK90dPZ"
      },
      "source": [
        "[texto del enlace](https://)\n",
        "\n",
        "\n",
        "---\n",
        "\n",
        "Las correlaciones cambian, al pasar del PIB per capita al PIB total. La alta  correlación entre GDP total (GDP ($)) y Population se debe a que países con más habitantes tienden a generar un PIB más alto, ya que hay más personas contribuyendo a la economía. De la misma manera, la alta correlación con Area (sq. mi.)  refleja que los países más grandes en territorio tienen más recursos y sectores económicos, lo que también impulsa su PIB. Excluyendo el PIB per cápita, las variables demográficas y geográficas, como la población y el área, se presentan como factores más relevantes para el PIB total.\n",
        "\n",
        "---\n"
      ]
    },
    {
      "cell_type": "markdown",
      "metadata": {
        "id": "muyGLrjtxk3-"
      },
      "source": [
        "### Pregunta 1.14\n",
        "\n",
        "Detecte las observaciones outliers de las tres variables seleccionadas en la pregunta anterior. Además, impute estas observaciones si usted lo considera necesario. Justifique su decisión."
      ]
    },
    {
      "cell_type": "code",
      "execution_count": 15,
      "metadata": {
        "colab": {
          "base_uri": "https://localhost:8080/",
          "height": 426
        },
        "id": "L0nsyFRDxl0x",
        "outputId": "8d99409b-ddf5-4ff4-f8c6-32cdd32c0b9a"
      },
      "outputs": [
        {
          "data": {
            "image/png": "[encoded data removed]",
            "text/plain": [
              "<Figure size 1500x500 with 3 Axes>"
            ]
          },
          "metadata": {},
          "output_type": "display_data"
        }
      ],
      "source": [
        "var = ['LnPopulation', 'Area (sq. mi.)', 'Phones (per 1000)']\n",
        "\n",
        "plt.figure(figsize=(15, 5))\n",
        "\n",
        "for i, variable in enumerate(var, 1):\n",
        "    plt.subplot(1, 3, i)\n",
        "    df.plot.scatter(x=variable, y=\"GDP ($)\", ax=plt.gca(), color=plt.cm.viridis(i / len(var)))\n",
        "    plt.title(f'Scatterplot: GDP vs {variable}', fontsize=14)\n",
        "    plt.xlabel(variable, fontsize=12)\n",
        "    plt.ylabel('GDP)', fontsize=12)\n",
        "\n",
        "plt.tight_layout()\n",
        "plt.show()"
      ]
    },
    {
      "cell_type": "code",
      "execution_count": 16,
      "metadata": {},
      "outputs": [
        {
          "data": {
            "image/png": "[encoded data removed]",
            "text/plain": [
              "<Figure size 1800x600 with 3 Axes>"
            ]
          },
          "metadata": {},
          "output_type": "display_data"
        }
      ],
      "source": [
        "# Definir las variables a graficar\n",
        "variables = [\"Population\", \"Area (sq. mi.)\", \"Phones (per 1000)\"]\n",
        "\n",
        "# Crear la figura con subgráficos\n",
        "fig, axes = plt.subplots(1, 3, figsize=(18,6))\n",
        "\n",
        "# Generar un boxplot para cada variable\n",
        "for i, var in enumerate(variables):\n",
        "    sns.boxplot(y=df[var], ax=axes[i], color=\"lightblue\", width=0.5)\n",
        "    axes[i].set_title(f\"Boxplot de {var}\")\n",
        "    axes[i].set_ylabel(var)\n",
        "\n",
        "# Ajustar el diseño\n",
        "plt.tight_layout()\n",
        "plt.show()"
      ]
    },
    {
      "cell_type": "code",
      "execution_count": null,
      "metadata": {},
      "outputs": [],
      "source": [
        "# Definir las variables a tratar\n",
        "#variables = [\"Population\", \"Area (sq. mi.)\", \"Phones (per 1000)\"]\n",
        "\n",
        "# Función para reemplazar outliers con percentiles 5 y 95\n",
        "#def imputar_outliers(df, column):\n",
        "    #Q1 = df[column].quantile(0.25)  # Primer cuartil (Q1)\n",
        "    #Q3 = df[column].quantile(0.75)  # Tercer cuartil (Q3)\n",
        "    #IQR = Q3 - Q1  # Rango intercuartil\n",
        "    #lower_bound = Q1 - 1.5 * IQR  # Límite inferior\n",
        "    #upper_bound = Q3 + 1.5 * IQR  # Límite superior\n",
        "\n",
        "    # Imputación: valores por debajo del límite inferior → P5, por encima → P95\n",
        "    #df[column] = np.where(df[column] < lower_bound, df[column].quantile(0.05), df[column])\n",
        "    #df[column] = np.where(df[column] > upper_bound, df[column].quantile(0.95), df[column])\n",
        "\n",
        "# Aplicar la imputación a cada variable\n",
        "#for var in variables:\n",
        "    #imputar_outliers(df, var)\n",
        "\n",
        "# Verificar que los outliers fueron imputados\n",
        "#df[variables].describe()"
      ]
    },
    {
      "cell_type": "code",
      "execution_count": 17,
      "metadata": {},
      "outputs": [],
      "source": [
        "#Aplicar transformacion (log por ejemplo) o eliminar los outliers\n",
        "\n",
        "df['LnArea (sq. mi.)'] = np.log(df['Area (sq. mi.)'])"
      ]
    },
    {
      "cell_type": "code",
      "execution_count": 18,
      "metadata": {},
      "outputs": [
        {
          "data": {
            "image/png": "[encoded data removed]",
            "text/plain": [
              "<Figure size 1800x600 with 3 Axes>"
            ]
          },
          "metadata": {},
          "output_type": "display_data"
        }
      ],
      "source": [
        "# Definir las variables a graficar\n",
        "variables = [\"LnPopulation\", \"LnArea (sq. mi.)\", \"Phones (per 1000)\"]\n",
        "\n",
        "# Crear la figura con subgráficos\n",
        "fig, axes = plt.subplots(1, 3, figsize=(18,6))\n",
        "\n",
        "# Generar un boxplot para cada variable\n",
        "for i, var in enumerate(variables):\n",
        "    sns.boxplot(y=df[var], ax=axes[i], color=\"lightblue\", width=0.5)\n",
        "    axes[i].set_title(f\"Boxplot de {var}\")\n",
        "    axes[i].set_ylabel(var)\n",
        "\n",
        "# Ajustar el diseño\n",
        "plt.tight_layout()\n",
        "plt.show()"
      ]
    },
    {
      "cell_type": "markdown",
      "metadata": {
        "id": "kNCuSK1OsQq4"
      },
      "source": [
        "\n",
        "\n",
        "\n",
        "---\n",
        "\n",
        "\n",
        "*Escriba* su **justificación** en esta celda...\n",
        "\n",
        "\n",
        "---\n",
        "\n"
      ]
    },
    {
      "cell_type": "markdown",
      "metadata": {
        "id": "WsAxkZcBM-LT"
      },
      "source": [
        "### Pregunta 1.15\n",
        "\n",
        "En los ejemplos anteriores calculamos correlaciones para `GDP ($ per capita)` y `GDP ($)`. Genere un nuevo dataframe que tenga le variación porcentual de la correlación absoluta para cada una de las columnas de características, e.g., si la correlación en valor absoluto de `GDP ($ per capita)` vs `Industry` es 0.1 y la correlación `GDP ($)` vs `Industry` es 0.5, la variación deberá ser +500%. Dicha variación porcentual puede ser positiva o negativa, pero ordene los el dataframe de tal manera que la variación de correlación absoluta sea desendiente."
      ]
    },
    {
      "cell_type": "code",
      "execution_count": null,
      "metadata": {
        "colab": {
          "base_uri": "https://localhost:8080/",
          "height": 708
        },
        "id": "Sxu10WkLgtRL",
        "outputId": "90489c7e-54fb-4934-99a3-668dd1798271"
      },
      "outputs": [],
      "source": [
        "corr_gdp_per_capita = df[df.dtypes[df.dtypes != \"object\"].index].corr()[\"GDP ($ per capita)\"].abs()\n",
        "corr_gdp = df[df.dtypes[df.dtypes != \"object\"].index].corr()[\"GDP ($)\"].abs()\n",
        "\n",
        "variation_percent = ((corr_gdp) / corr_gdp_per_capita) * 100\n",
        "\n",
        "variation_df = pd.DataFrame(variation_percent, columns=['Variación porcentual'])\n",
        "variation_df = variation_df.sort_values(by='Variación porcentual', ascending=False)\n",
        "\n",
        "variation_df"
      ]
    },
    {
      "cell_type": "markdown",
      "metadata": {
        "id": "Qt_OaXwCV5Ug"
      },
      "source": [
        "### Pregunta 1.16\n",
        "\n",
        "Del resultado anterior, ¿qué caracerística del país tuvo una mayor diferencia absoluta el medir su correlación versus `GDP ($)` en vez de `GDP ($ per capita)`'. Interprete."
      ]
    },
    {
      "cell_type": "markdown",
      "metadata": {
        "id": "TyyJoFI2WV12"
      },
      "source": [
        "\n",
        "\n",
        "\n",
        "---\n",
        "\n",
        "\n",
        "La característica Population muestra la mayor diferencia en la correlación entre GDP ($ per capita) y GDP ($), con una variación del 1545.57%. Esto significa que la relación de la población con el GDP total es muy diferente a su relación con el GDP per capita.\n",
        "\n",
        "Con el GDP per capita, la relación con la población es menos evidente, porque este indicador ya tiene en cuenta el tamaño de la población. El GDP per capita mide cuánto \"produce\" en promedio cada persona, por lo que no depende directamente de cuántas personas haya en el país.\n",
        "\n",
        "En cambio, al medir la relación con el GDP total, la población tiene un impacto mucho mayor, ya que un país con más habitantes generalmente tiene un GDP total más alto, independientemente de cuánto produzca cada individuo. Es decir, el tamaño de la población afecta directamente el GDP total, pero no tanto el GDP per capita, que ya está ajustado por el número de habitantes.\n",
        "\n",
        "Por eso, la diferencia es tan grande: el GDP total está fuertemente influenciado por el tamaño de la población, mientras que el GDP per capita no lo está tanto.\n",
        "\n",
        "---\n",
        "\n",
        "\n",
        "\n"
      ]
    },
    {
      "cell_type": "markdown",
      "metadata": {
        "id": "H993HrMJ1NqT"
      },
      "source": [
        "## EDA con diferentes fuentes de **información**\n"
      ]
    },
    {
      "cell_type": "markdown",
      "metadata": {
        "id": "AZ8DaatetHdM"
      },
      "source": [
        "Una situación habitual en _Data Science: es el manejo de información de múltiples fuentes para un mismo propósito. En este sentido, de ahora en adelante agregaremos un dataframe adicional a nuestro set de información, disponible en [Github](https://raw.githubusercontent.com/datasets/gini-index/refs/heads/main/data/gini-index.csv). Lo llamaremos `df_gini`.\n",
        "\n",
        "Este dataset contiene información histórica del Índice de Gini (economía), el cual captura la desigualdad económica entre los quintiles de cada país. A mayor índice Gini, más desigual es un país en términos de ingresos. Para mayor información sobre los datos, puede dirigirse al [Repositorio](https://github.com/datasets/gini-index) completo. Para conocer más sobre el índice, una navegación por [Wikipedia](https://en.wikipedia.org/wiki/Gini_coefficient) debería ser suficiente."
      ]
    },
    {
      "cell_type": "markdown",
      "metadata": {
        "id": "FaDaLRg5tP9O"
      },
      "source": [
        "### Pregunta 2.0\n",
        "\n",
        "Cargue la base datos, asegúrese de que la variable de año esté en un formato de \"fecha\", y usando el diccionario de mapeo por inconsistencias de nombres, `country_name_mapping`, encuentre la forma de realizar un INNER JOIN entre ambas tablas, usando el nombre del país y el año de la observación como variables por las cuales hacer el JOIN. En el diccionario `country_name_mapping`, _keys_ corresponden a los valores de la tabla `df_gini` y _values_ a los de `df`.\n",
        "\n",
        "Llame al dataframe resultante `df_merged`.\n",
        "\n",
        "Si usted no se ha percatado, los nombres en la columna `Country` de `df` poseen espacios al final de estos. Elimine los espacios antes de realizar el INNER JOIN de interés (Hint: existe una función propia de las variables tipo `string` que realiza la labor de eliminar espacios al final de la palabra).\n",
        "\n"
      ]
    },
    {
      "cell_type": "code",
      "execution_count": 19,
      "metadata": {
        "id": "pNKh8tNnOzmR"
      },
      "outputs": [],
      "source": [
        "# NO MODIFICAR, pero sí ejecutar\n",
        "country_name_mapping = {\n",
        "    \"Bahamas\": \"Bahamas, The\",\n",
        "    \"Bosnia and Herzegovina\": \"Bosnia & Herzegovina\",\n",
        "    \"Myanmar\": \"Burma\",\n",
        "    \"Cape Verde\": \"Cabo Verde\",\n",
        "    \"Central African Republic\": \"Central African Rep.\",\n",
        "    \"Congo, Rep.\": \"Congo, Repub. of the\",\n",
        "    \"Czechia\": \"Czech Republic\",\n",
        "    \"Timor-Leste\": \"East Timor\",\n",
        "    \"Egypt, Arab Rep.\": \"Egypt\",\n",
        "    \"West Bank and Gaza\": \"Gaza Strip\",\n",
        "    \"Iran, Islamic Rep.\": \"Iran\",\n",
        "    \"Korea, Dem. People's Rep.\": \"Korea, North\",\n",
        "    \"Korea, Rep.\": \"Korea, South\",\n",
        "    \"Kyrgyz Republic\": \"Kyrgyzstan\",\n",
        "    \"Lao PDR\": \"Laos\",\n",
        "    \"North Macedonia\": \"Macedonia\",\n",
        "    \"Micronesia, Fed. Sts.\": \"Micronesia, Fed. St.\",\n",
        "    \"Russian Federation\": \"Russia\",\n",
        "    \"St. Kitts and Nevis\": \"Saint Kitts & Nevis\",\n",
        "    \"St. Lucia\": \"Saint Lucia\",\n",
        "    \"St. Vincent and the Grenadines\": \"Saint Vincent and the Grenadines\",\n",
        "    \"Slovak Republic\": \"Slovakia\",\n",
        "    \"Eswatini\": \"Swaziland\",\n",
        "    \"Syrian Arab Republic\": \"Syria\",\n",
        "    \"Trinidad and Tobago\": \"Trinidad & Tobago\",\n",
        "    \"Turkiye\": \"Turkey\",\n",
        "    \"Venezuela, RB\": \"Venezuela\",\n",
        "    \"Viet Nam\": \"Vietnam\",\n",
        "    \"Yemen, Rep.\": \"Yemen\"\n",
        "}\n",
        "\n"
      ]
    },
    {
      "cell_type": "code",
      "execution_count": 20,
      "metadata": {
        "colab": {
          "base_uri": "https://localhost:8080/",
          "height": 424
        },
        "collapsed": true,
        "id": "yw__wdHd9y4x",
        "outputId": "5ad7b4f0-ead2-4ec3-bd8a-8c780ef50e84"
      },
      "outputs": [
        {
          "data": {
            "text/html": [
              "<div>\n",
              "<style scoped>\n",
              "    .dataframe tbody tr th:only-of-type {\n",
              "        vertical-align: middle;\n",
              "    }\n",
              "\n",
              "    .dataframe tbody tr th {\n",
              "        vertical-align: top;\n",
              "    }\n",
              "\n",
              "    .dataframe thead th {\n",
              "        text-align: right;\n",
              "    }\n",
              "</style>\n",
              "<table border=\"1\" class=\"dataframe\">\n",
              "  <thead>\n",
              "    <tr style=\"text-align: right;\">\n",
              "      <th></th>\n",
              "      <th>Country Name</th>\n",
              "      <th>Country Code</th>\n",
              "      <th>Year</th>\n",
              "      <th>Value</th>\n",
              "    </tr>\n",
              "  </thead>\n",
              "  <tbody>\n",
              "    <tr>\n",
              "      <th>0</th>\n",
              "      <td>Albania</td>\n",
              "      <td>ALB</td>\n",
              "      <td>1996</td>\n",
              "      <td>27.0</td>\n",
              "    </tr>\n",
              "    <tr>\n",
              "      <th>1</th>\n",
              "      <td>Albania</td>\n",
              "      <td>ALB</td>\n",
              "      <td>2002</td>\n",
              "      <td>31.7</td>\n",
              "    </tr>\n",
              "    <tr>\n",
              "      <th>2</th>\n",
              "      <td>Albania</td>\n",
              "      <td>ALB</td>\n",
              "      <td>2005</td>\n",
              "      <td>30.6</td>\n",
              "    </tr>\n",
              "    <tr>\n",
              "      <th>3</th>\n",
              "      <td>Albania</td>\n",
              "      <td>ALB</td>\n",
              "      <td>2008</td>\n",
              "      <td>30.0</td>\n",
              "    </tr>\n",
              "    <tr>\n",
              "      <th>4</th>\n",
              "      <td>Albania</td>\n",
              "      <td>ALB</td>\n",
              "      <td>2012</td>\n",
              "      <td>29.0</td>\n",
              "    </tr>\n",
              "    <tr>\n",
              "      <th>...</th>\n",
              "      <td>...</td>\n",
              "      <td>...</td>\n",
              "      <td>...</td>\n",
              "      <td>...</td>\n",
              "    </tr>\n",
              "    <tr>\n",
              "      <th>2106</th>\n",
              "      <td>Zambia</td>\n",
              "      <td>ZMB</td>\n",
              "      <td>2015</td>\n",
              "      <td>55.8</td>\n",
              "    </tr>\n",
              "    <tr>\n",
              "      <th>2107</th>\n",
              "      <td>Zambia</td>\n",
              "      <td>ZMB</td>\n",
              "      <td>2022</td>\n",
              "      <td>51.5</td>\n",
              "    </tr>\n",
              "    <tr>\n",
              "      <th>2108</th>\n",
              "      <td>Zimbabwe</td>\n",
              "      <td>ZWE</td>\n",
              "      <td>2011</td>\n",
              "      <td>43.2</td>\n",
              "    </tr>\n",
              "    <tr>\n",
              "      <th>2109</th>\n",
              "      <td>Zimbabwe</td>\n",
              "      <td>ZWE</td>\n",
              "      <td>2017</td>\n",
              "      <td>44.3</td>\n",
              "    </tr>\n",
              "    <tr>\n",
              "      <th>2110</th>\n",
              "      <td>Zimbabwe</td>\n",
              "      <td>ZWE</td>\n",
              "      <td>2019</td>\n",
              "      <td>50.3</td>\n",
              "    </tr>\n",
              "  </tbody>\n",
              "</table>\n",
              "<p>2111 rows × 4 columns</p>\n",
              "</div>"
            ],
            "text/plain": [
              "     Country Name Country Code  Year  Value\n",
              "0         Albania          ALB  1996   27.0\n",
              "1         Albania          ALB  2002   31.7\n",
              "2         Albania          ALB  2005   30.6\n",
              "3         Albania          ALB  2008   30.0\n",
              "4         Albania          ALB  2012   29.0\n",
              "...           ...          ...   ...    ...\n",
              "2106       Zambia          ZMB  2015   55.8\n",
              "2107       Zambia          ZMB  2022   51.5\n",
              "2108     Zimbabwe          ZWE  2011   43.2\n",
              "2109     Zimbabwe          ZWE  2017   44.3\n",
              "2110     Zimbabwe          ZWE  2019   50.3\n",
              "\n",
              "[2111 rows x 4 columns]"
            ]
          },
          "execution_count": 20,
          "metadata": {},
          "output_type": "execute_result"
        }
      ],
      "source": [
        "#definimos la direccion de la base de datos\n",
        "url_1 = \"https://raw.githubusercontent.com/datasets/gini-index/refs/heads/main/data/gini-index.csv\"\n",
        "\n",
        "#Se leen los datos\n",
        "df_gini = pd.read_csv(url_1)\n",
        "\n",
        "# vistazo de los datos\n",
        "df_gini"
      ]
    },
    {
      "cell_type": "code",
      "execution_count": 22,
      "metadata": {},
      "outputs": [
        {
          "data": {
            "text/html": [
              "<div>\n",
              "<style scoped>\n",
              "    .dataframe tbody tr th:only-of-type {\n",
              "        vertical-align: middle;\n",
              "    }\n",
              "\n",
              "    .dataframe tbody tr th {\n",
              "        vertical-align: top;\n",
              "    }\n",
              "\n",
              "    .dataframe thead th {\n",
              "        text-align: right;\n",
              "    }\n",
              "</style>\n",
              "<table border=\"1\" class=\"dataframe\">\n",
              "  <thead>\n",
              "    <tr style=\"text-align: right;\">\n",
              "      <th></th>\n",
              "      <th>date</th>\n",
              "      <th>Country</th>\n",
              "      <th>Region</th>\n",
              "      <th>Population</th>\n",
              "      <th>Area (sq. mi.)</th>\n",
              "      <th>Pop. Density (per sq. mi.)</th>\n",
              "      <th>Coastline (coast/area ratio)</th>\n",
              "      <th>Net migration</th>\n",
              "      <th>Infant mortality (per 1000 births)</th>\n",
              "      <th>GDP ($ per capita)</th>\n",
              "      <th>...</th>\n",
              "      <th>Other (%)</th>\n",
              "      <th>Climate</th>\n",
              "      <th>Birthrate</th>\n",
              "      <th>Deathrate</th>\n",
              "      <th>Agriculture</th>\n",
              "      <th>Industry</th>\n",
              "      <th>Service</th>\n",
              "      <th>LnPopulation</th>\n",
              "      <th>GDP ($)</th>\n",
              "      <th>LnArea (sq. mi.)</th>\n",
              "    </tr>\n",
              "  </thead>\n",
              "  <tbody>\n",
              "    <tr>\n",
              "      <th>0</th>\n",
              "      <td>2007-01-01</td>\n",
              "      <td>Afghanistan</td>\n",
              "      <td>ASIA (EX. NEAR EAST)</td>\n",
              "      <td>31056997</td>\n",
              "      <td>647500</td>\n",
              "      <td>48.0</td>\n",
              "      <td>0.00</td>\n",
              "      <td>23.06</td>\n",
              "      <td>163.07</td>\n",
              "      <td>700.0</td>\n",
              "      <td>...</td>\n",
              "      <td>87.65</td>\n",
              "      <td>1.0</td>\n",
              "      <td>46.60</td>\n",
              "      <td>20.340000</td>\n",
              "      <td>0.380000</td>\n",
              "      <td>0.240000</td>\n",
              "      <td>0.380000</td>\n",
              "      <td>17.251335</td>\n",
              "      <td>2.173990e+10</td>\n",
              "      <td>13.380874</td>\n",
              "    </tr>\n",
              "    <tr>\n",
              "      <th>1</th>\n",
              "      <td>2007-01-01</td>\n",
              "      <td>Albania</td>\n",
              "      <td>EASTERN EUROPE</td>\n",
              "      <td>3581655</td>\n",
              "      <td>28748</td>\n",
              "      <td>124.6</td>\n",
              "      <td>1.26</td>\n",
              "      <td>-4.93</td>\n",
              "      <td>21.52</td>\n",
              "      <td>4500.0</td>\n",
              "      <td>...</td>\n",
              "      <td>74.49</td>\n",
              "      <td>3.0</td>\n",
              "      <td>15.11</td>\n",
              "      <td>5.220000</td>\n",
              "      <td>0.232000</td>\n",
              "      <td>0.188000</td>\n",
              "      <td>0.579000</td>\n",
              "      <td>15.091336</td>\n",
              "      <td>1.611745e+10</td>\n",
              "      <td>10.266323</td>\n",
              "    </tr>\n",
              "    <tr>\n",
              "      <th>2</th>\n",
              "      <td>2007-01-01</td>\n",
              "      <td>Algeria</td>\n",
              "      <td>NORTHERN AFRICA</td>\n",
              "      <td>32930091</td>\n",
              "      <td>2381740</td>\n",
              "      <td>13.8</td>\n",
              "      <td>0.04</td>\n",
              "      <td>-0.39</td>\n",
              "      <td>31.00</td>\n",
              "      <td>6000.0</td>\n",
              "      <td>...</td>\n",
              "      <td>96.53</td>\n",
              "      <td>1.0</td>\n",
              "      <td>17.14</td>\n",
              "      <td>4.610000</td>\n",
              "      <td>0.101000</td>\n",
              "      <td>0.600000</td>\n",
              "      <td>0.298000</td>\n",
              "      <td>17.309897</td>\n",
              "      <td>1.975805e+11</td>\n",
              "      <td>14.683342</td>\n",
              "    </tr>\n",
              "    <tr>\n",
              "      <th>3</th>\n",
              "      <td>2007-01-01</td>\n",
              "      <td>American Samoa</td>\n",
              "      <td>OCEANIA</td>\n",
              "      <td>57794</td>\n",
              "      <td>199</td>\n",
              "      <td>290.4</td>\n",
              "      <td>58.29</td>\n",
              "      <td>-20.71</td>\n",
              "      <td>9.27</td>\n",
              "      <td>8000.0</td>\n",
              "      <td>...</td>\n",
              "      <td>75.00</td>\n",
              "      <td>2.0</td>\n",
              "      <td>22.46</td>\n",
              "      <td>3.270000</td>\n",
              "      <td>0.150844</td>\n",
              "      <td>0.282711</td>\n",
              "      <td>0.565283</td>\n",
              "      <td>10.964640</td>\n",
              "      <td>4.623520e+08</td>\n",
              "      <td>5.293305</td>\n",
              "    </tr>\n",
              "    <tr>\n",
              "      <th>4</th>\n",
              "      <td>2007-01-01</td>\n",
              "      <td>Andorra</td>\n",
              "      <td>WESTERN EUROPE</td>\n",
              "      <td>71201</td>\n",
              "      <td>468</td>\n",
              "      <td>152.1</td>\n",
              "      <td>0.00</td>\n",
              "      <td>6.60</td>\n",
              "      <td>4.05</td>\n",
              "      <td>19000.0</td>\n",
              "      <td>...</td>\n",
              "      <td>97.78</td>\n",
              "      <td>3.0</td>\n",
              "      <td>8.71</td>\n",
              "      <td>6.250000</td>\n",
              "      <td>0.150844</td>\n",
              "      <td>0.282711</td>\n",
              "      <td>0.565283</td>\n",
              "      <td>11.173262</td>\n",
              "      <td>1.352819e+09</td>\n",
              "      <td>6.148468</td>\n",
              "    </tr>\n",
              "    <tr>\n",
              "      <th>...</th>\n",
              "      <td>...</td>\n",
              "      <td>...</td>\n",
              "      <td>...</td>\n",
              "      <td>...</td>\n",
              "      <td>...</td>\n",
              "      <td>...</td>\n",
              "      <td>...</td>\n",
              "      <td>...</td>\n",
              "      <td>...</td>\n",
              "      <td>...</td>\n",
              "      <td>...</td>\n",
              "      <td>...</td>\n",
              "      <td>...</td>\n",
              "      <td>...</td>\n",
              "      <td>...</td>\n",
              "      <td>...</td>\n",
              "      <td>...</td>\n",
              "      <td>...</td>\n",
              "      <td>...</td>\n",
              "      <td>...</td>\n",
              "      <td>...</td>\n",
              "    </tr>\n",
              "    <tr>\n",
              "      <th>222</th>\n",
              "      <td>2007-01-01</td>\n",
              "      <td>West Bank</td>\n",
              "      <td>NEAR EAST</td>\n",
              "      <td>2460492</td>\n",
              "      <td>5860</td>\n",
              "      <td>419.9</td>\n",
              "      <td>0.00</td>\n",
              "      <td>2.98</td>\n",
              "      <td>19.62</td>\n",
              "      <td>800.0</td>\n",
              "      <td>...</td>\n",
              "      <td>64.13</td>\n",
              "      <td>3.0</td>\n",
              "      <td>31.67</td>\n",
              "      <td>3.920000</td>\n",
              "      <td>0.090000</td>\n",
              "      <td>0.280000</td>\n",
              "      <td>0.630000</td>\n",
              "      <td>14.715872</td>\n",
              "      <td>1.968394e+09</td>\n",
              "      <td>8.675905</td>\n",
              "    </tr>\n",
              "    <tr>\n",
              "      <th>223</th>\n",
              "      <td>2007-01-01</td>\n",
              "      <td>Western Sahara</td>\n",
              "      <td>NORTHERN AFRICA</td>\n",
              "      <td>273008</td>\n",
              "      <td>266000</td>\n",
              "      <td>1.0</td>\n",
              "      <td>0.42</td>\n",
              "      <td>0.00</td>\n",
              "      <td>9.95</td>\n",
              "      <td>5550.0</td>\n",
              "      <td>...</td>\n",
              "      <td>99.98</td>\n",
              "      <td>1.0</td>\n",
              "      <td>12.56</td>\n",
              "      <td>9.241345</td>\n",
              "      <td>0.150844</td>\n",
              "      <td>0.282711</td>\n",
              "      <td>0.400000</td>\n",
              "      <td>12.517256</td>\n",
              "      <td>1.515194e+09</td>\n",
              "      <td>12.491252</td>\n",
              "    </tr>\n",
              "    <tr>\n",
              "      <th>224</th>\n",
              "      <td>2007-01-01</td>\n",
              "      <td>Yemen</td>\n",
              "      <td>NEAR EAST</td>\n",
              "      <td>21456188</td>\n",
              "      <td>527970</td>\n",
              "      <td>40.6</td>\n",
              "      <td>0.36</td>\n",
              "      <td>0.00</td>\n",
              "      <td>61.50</td>\n",
              "      <td>800.0</td>\n",
              "      <td>...</td>\n",
              "      <td>96.98</td>\n",
              "      <td>1.0</td>\n",
              "      <td>42.89</td>\n",
              "      <td>8.300000</td>\n",
              "      <td>0.135000</td>\n",
              "      <td>0.472000</td>\n",
              "      <td>0.393000</td>\n",
              "      <td>16.881524</td>\n",
              "      <td>1.716495e+10</td>\n",
              "      <td>13.176795</td>\n",
              "    </tr>\n",
              "    <tr>\n",
              "      <th>225</th>\n",
              "      <td>2007-01-01</td>\n",
              "      <td>Zambia</td>\n",
              "      <td>SUB-SAHARAN AFRICA</td>\n",
              "      <td>11502010</td>\n",
              "      <td>752614</td>\n",
              "      <td>15.3</td>\n",
              "      <td>0.00</td>\n",
              "      <td>0.00</td>\n",
              "      <td>88.29</td>\n",
              "      <td>800.0</td>\n",
              "      <td>...</td>\n",
              "      <td>92.90</td>\n",
              "      <td>2.0</td>\n",
              "      <td>41.00</td>\n",
              "      <td>19.930000</td>\n",
              "      <td>0.220000</td>\n",
              "      <td>0.290000</td>\n",
              "      <td>0.489000</td>\n",
              "      <td>16.258032</td>\n",
              "      <td>9.201608e+09</td>\n",
              "      <td>13.531308</td>\n",
              "    </tr>\n",
              "    <tr>\n",
              "      <th>226</th>\n",
              "      <td>2007-01-01</td>\n",
              "      <td>Zimbabwe</td>\n",
              "      <td>SUB-SAHARAN AFRICA</td>\n",
              "      <td>12236805</td>\n",
              "      <td>390580</td>\n",
              "      <td>31.3</td>\n",
              "      <td>0.00</td>\n",
              "      <td>0.00</td>\n",
              "      <td>67.69</td>\n",
              "      <td>1900.0</td>\n",
              "      <td>...</td>\n",
              "      <td>91.34</td>\n",
              "      <td>2.0</td>\n",
              "      <td>28.01</td>\n",
              "      <td>21.840000</td>\n",
              "      <td>0.179000</td>\n",
              "      <td>0.243000</td>\n",
              "      <td>0.579000</td>\n",
              "      <td>16.319959</td>\n",
              "      <td>2.324993e+10</td>\n",
              "      <td>12.875388</td>\n",
              "    </tr>\n",
              "  </tbody>\n",
              "</table>\n",
              "<p>227 rows × 24 columns</p>\n",
              "</div>"
            ],
            "text/plain": [
              "          date          Country                               Region  \\\n",
              "0   2007-01-01     Afghanistan         ASIA (EX. NEAR EAST)            \n",
              "1   2007-01-01         Albania   EASTERN EUROPE                        \n",
              "2   2007-01-01         Algeria   NORTHERN AFRICA                       \n",
              "3   2007-01-01  American Samoa   OCEANIA                               \n",
              "4   2007-01-01         Andorra   WESTERN EUROPE                        \n",
              "..         ...              ...                                  ...   \n",
              "222 2007-01-01       West Bank   NEAR EAST                             \n",
              "223 2007-01-01  Western Sahara   NORTHERN AFRICA                       \n",
              "224 2007-01-01           Yemen   NEAR EAST                             \n",
              "225 2007-01-01          Zambia   SUB-SAHARAN AFRICA                    \n",
              "226 2007-01-01        Zimbabwe   SUB-SAHARAN AFRICA                    \n",
              "\n",
              "     Population  Area (sq. mi.)  Pop. Density (per sq. mi.)  \\\n",
              "0      31056997          647500                        48.0   \n",
              "1       3581655           28748                       124.6   \n",
              "2      32930091         2381740                        13.8   \n",
              "3         57794             199                       290.4   \n",
              "4         71201             468                       152.1   \n",
              "..          ...             ...                         ...   \n",
              "222     2460492            5860                       419.9   \n",
              "223      273008          266000                         1.0   \n",
              "224    21456188          527970                        40.6   \n",
              "225    11502010          752614                        15.3   \n",
              "226    12236805          390580                        31.3   \n",
              "\n",
              "     Coastline (coast/area ratio)  Net migration  \\\n",
              "0                            0.00          23.06   \n",
              "1                            1.26          -4.93   \n",
              "2                            0.04          -0.39   \n",
              "3                           58.29         -20.71   \n",
              "4                            0.00           6.60   \n",
              "..                            ...            ...   \n",
              "222                          0.00           2.98   \n",
              "223                          0.42           0.00   \n",
              "224                          0.36           0.00   \n",
              "225                          0.00           0.00   \n",
              "226                          0.00           0.00   \n",
              "\n",
              "     Infant mortality (per 1000 births)  GDP ($ per capita)  ...  Other (%)  \\\n",
              "0                                163.07               700.0  ...      87.65   \n",
              "1                                 21.52              4500.0  ...      74.49   \n",
              "2                                 31.00              6000.0  ...      96.53   \n",
              "3                                  9.27              8000.0  ...      75.00   \n",
              "4                                  4.05             19000.0  ...      97.78   \n",
              "..                                  ...                 ...  ...        ...   \n",
              "222                               19.62               800.0  ...      64.13   \n",
              "223                                9.95              5550.0  ...      99.98   \n",
              "224                               61.50               800.0  ...      96.98   \n",
              "225                               88.29               800.0  ...      92.90   \n",
              "226                               67.69              1900.0  ...      91.34   \n",
              "\n",
              "     Climate  Birthrate  Deathrate  Agriculture  Industry   Service  \\\n",
              "0        1.0      46.60  20.340000     0.380000  0.240000  0.380000   \n",
              "1        3.0      15.11   5.220000     0.232000  0.188000  0.579000   \n",
              "2        1.0      17.14   4.610000     0.101000  0.600000  0.298000   \n",
              "3        2.0      22.46   3.270000     0.150844  0.282711  0.565283   \n",
              "4        3.0       8.71   6.250000     0.150844  0.282711  0.565283   \n",
              "..       ...        ...        ...          ...       ...       ...   \n",
              "222      3.0      31.67   3.920000     0.090000  0.280000  0.630000   \n",
              "223      1.0      12.56   9.241345     0.150844  0.282711  0.400000   \n",
              "224      1.0      42.89   8.300000     0.135000  0.472000  0.393000   \n",
              "225      2.0      41.00  19.930000     0.220000  0.290000  0.489000   \n",
              "226      2.0      28.01  21.840000     0.179000  0.243000  0.579000   \n",
              "\n",
              "     LnPopulation       GDP ($)  LnArea (sq. mi.)  \n",
              "0       17.251335  2.173990e+10         13.380874  \n",
              "1       15.091336  1.611745e+10         10.266323  \n",
              "2       17.309897  1.975805e+11         14.683342  \n",
              "3       10.964640  4.623520e+08          5.293305  \n",
              "4       11.173262  1.352819e+09          6.148468  \n",
              "..            ...           ...               ...  \n",
              "222     14.715872  1.968394e+09          8.675905  \n",
              "223     12.517256  1.515194e+09         12.491252  \n",
              "224     16.881524  1.716495e+10         13.176795  \n",
              "225     16.258032  9.201608e+09         13.531308  \n",
              "226     16.319959  2.324993e+10         12.875388  \n",
              "\n",
              "[227 rows x 24 columns]"
            ]
          },
          "execution_count": 22,
          "metadata": {},
          "output_type": "execute_result"
        }
      ],
      "source": [
        "df"
      ]
    },
    {
      "cell_type": "code",
      "execution_count": null,
      "metadata": {
        "id": "fkgJ2-0At4VB"
      },
      "outputs": [],
      "source": [
        "#cambiamos date a Year para que calze con df_gini\n",
        "df = df.rename(columns={'date': 'Year'})\n",
        "\n",
        "#Pasamos year de gini a formato datetime\n",
        "df_gini[\"Year\"] = pd.to_datetime(df_gini[\"Year\"], format=\"%Y\").dt.year\n",
        "\n",
        "#dejamos solo el año en la base original, para que sea igual a la base del gini\n",
        "df[\"Year\"] = pd.to_datetime(df[\"Year\"], format=\"%Y\").dt.year"
      ]
    },
    {
      "cell_type": "code",
      "execution_count": 27,
      "metadata": {
        "colab": {
          "base_uri": "https://localhost:8080/",
          "height": 429
        },
        "collapsed": true,
        "id": "WpUlfuEKF9Mt",
        "outputId": "365d5f5a-b18f-42a6-c492-e698b2b058b6"
      },
      "outputs": [],
      "source": [
        "#Quitamos el espacio del nombre del pais\n",
        "df[\"Country\"] = df[\"Country\"].str.strip()\n"
      ]
    },
    {
      "cell_type": "code",
      "execution_count": 35,
      "metadata": {
        "id": "-EpK7cMBGOTJ"
      },
      "outputs": [],
      "source": [
        "# Renombrar la columna \"Country name\" en df_gini a \"Country\"\n",
        "df_gini = df_gini.rename(columns={\"Country Name\": \"Country\"})"
      ]
    },
    {
      "cell_type": "code",
      "execution_count": null,
      "metadata": {
        "id": "ujcMlzfK01nG"
      },
      "outputs": [],
      "source": [
        "# cambiar los nombres de los paises de gini por los del df original, para que sean iguales.\n",
        "df_gini[\"Country\"] = df_gini[\"Country\"].replace(country_name_mapping)"
      ]
    },
    {
      "cell_type": "code",
      "execution_count": 41,
      "metadata": {
        "colab": {
          "base_uri": "https://localhost:8080/",
          "height": 287
        },
        "id": "qIPBa6U4E97h",
        "outputId": "ca1278e5-4528-4b00-f86e-00a79520e8c3"
      },
      "outputs": [
        {
          "data": {
            "text/html": [
              "<div>\n",
              "<style scoped>\n",
              "    .dataframe tbody tr th:only-of-type {\n",
              "        vertical-align: middle;\n",
              "    }\n",
              "\n",
              "    .dataframe tbody tr th {\n",
              "        vertical-align: top;\n",
              "    }\n",
              "\n",
              "    .dataframe thead th {\n",
              "        text-align: right;\n",
              "    }\n",
              "</style>\n",
              "<table border=\"1\" class=\"dataframe\">\n",
              "  <thead>\n",
              "    <tr style=\"text-align: right;\">\n",
              "      <th></th>\n",
              "      <th>Year</th>\n",
              "      <th>Country</th>\n",
              "      <th>Region</th>\n",
              "      <th>Population</th>\n",
              "      <th>Area (sq. mi.)</th>\n",
              "      <th>Pop. Density (per sq. mi.)</th>\n",
              "      <th>Coastline (coast/area ratio)</th>\n",
              "      <th>Net migration</th>\n",
              "      <th>Infant mortality (per 1000 births)</th>\n",
              "      <th>GDP ($ per capita)</th>\n",
              "      <th>...</th>\n",
              "      <th>Birthrate</th>\n",
              "      <th>Deathrate</th>\n",
              "      <th>Agriculture</th>\n",
              "      <th>Industry</th>\n",
              "      <th>Service</th>\n",
              "      <th>LnPopulation</th>\n",
              "      <th>GDP ($)</th>\n",
              "      <th>LnArea (sq. mi.)</th>\n",
              "      <th>Country Code</th>\n",
              "      <th>Value</th>\n",
              "    </tr>\n",
              "  </thead>\n",
              "  <tbody>\n",
              "    <tr>\n",
              "      <th>0</th>\n",
              "      <td>2007</td>\n",
              "      <td>Argentina</td>\n",
              "      <td>LATIN AMER. &amp; CARIB</td>\n",
              "      <td>39921833</td>\n",
              "      <td>2766890</td>\n",
              "      <td>14.4</td>\n",
              "      <td>0.18</td>\n",
              "      <td>0.61</td>\n",
              "      <td>15.18</td>\n",
              "      <td>11200.0</td>\n",
              "      <td>...</td>\n",
              "      <td>16.73</td>\n",
              "      <td>7.55</td>\n",
              "      <td>0.095</td>\n",
              "      <td>0.358</td>\n",
              "      <td>0.547</td>\n",
              "      <td>17.502434</td>\n",
              "      <td>4.471245e+11</td>\n",
              "      <td>14.833235</td>\n",
              "      <td>ARG</td>\n",
              "      <td>46.3</td>\n",
              "    </tr>\n",
              "    <tr>\n",
              "      <th>1</th>\n",
              "      <td>2007</td>\n",
              "      <td>Armenia</td>\n",
              "      <td>C.W. OF IND. STATES</td>\n",
              "      <td>2976372</td>\n",
              "      <td>29800</td>\n",
              "      <td>99.9</td>\n",
              "      <td>0.00</td>\n",
              "      <td>-6.47</td>\n",
              "      <td>23.28</td>\n",
              "      <td>3500.0</td>\n",
              "      <td>...</td>\n",
              "      <td>12.07</td>\n",
              "      <td>8.23</td>\n",
              "      <td>0.239</td>\n",
              "      <td>0.343</td>\n",
              "      <td>0.418</td>\n",
              "      <td>14.906216</td>\n",
              "      <td>1.041730e+10</td>\n",
              "      <td>10.302264</td>\n",
              "      <td>ARM</td>\n",
              "      <td>31.2</td>\n",
              "    </tr>\n",
              "    <tr>\n",
              "      <th>2</th>\n",
              "      <td>2007</td>\n",
              "      <td>Austria</td>\n",
              "      <td>WESTERN EUROPE</td>\n",
              "      <td>8192880</td>\n",
              "      <td>83870</td>\n",
              "      <td>97.7</td>\n",
              "      <td>0.00</td>\n",
              "      <td>2.00</td>\n",
              "      <td>4.66</td>\n",
              "      <td>30000.0</td>\n",
              "      <td>...</td>\n",
              "      <td>8.74</td>\n",
              "      <td>9.76</td>\n",
              "      <td>0.018</td>\n",
              "      <td>0.304</td>\n",
              "      <td>0.678</td>\n",
              "      <td>15.918776</td>\n",
              "      <td>2.457864e+11</td>\n",
              "      <td>11.337023</td>\n",
              "      <td>AUT</td>\n",
              "      <td>30.6</td>\n",
              "    </tr>\n",
              "    <tr>\n",
              "      <th>3</th>\n",
              "      <td>2007</td>\n",
              "      <td>Belarus</td>\n",
              "      <td>C.W. OF IND. STATES</td>\n",
              "      <td>10293011</td>\n",
              "      <td>207600</td>\n",
              "      <td>49.6</td>\n",
              "      <td>0.00</td>\n",
              "      <td>2.54</td>\n",
              "      <td>13.37</td>\n",
              "      <td>6100.0</td>\n",
              "      <td>...</td>\n",
              "      <td>11.16</td>\n",
              "      <td>14.02</td>\n",
              "      <td>0.093</td>\n",
              "      <td>0.316</td>\n",
              "      <td>0.591</td>\n",
              "      <td>16.146976</td>\n",
              "      <td>6.278737e+10</td>\n",
              "      <td>12.243368</td>\n",
              "      <td>BLR</td>\n",
              "      <td>29.6</td>\n",
              "    </tr>\n",
              "    <tr>\n",
              "      <th>4</th>\n",
              "      <td>2007</td>\n",
              "      <td>Belgium</td>\n",
              "      <td>WESTERN EUROPE</td>\n",
              "      <td>10379067</td>\n",
              "      <td>30528</td>\n",
              "      <td>340.0</td>\n",
              "      <td>0.22</td>\n",
              "      <td>1.23</td>\n",
              "      <td>4.68</td>\n",
              "      <td>29100.0</td>\n",
              "      <td>...</td>\n",
              "      <td>10.38</td>\n",
              "      <td>10.27</td>\n",
              "      <td>0.010</td>\n",
              "      <td>0.240</td>\n",
              "      <td>0.749</td>\n",
              "      <td>16.155302</td>\n",
              "      <td>3.020308e+11</td>\n",
              "      <td>10.326400</td>\n",
              "      <td>BEL</td>\n",
              "      <td>29.2</td>\n",
              "    </tr>\n",
              "    <tr>\n",
              "      <th>...</th>\n",
              "      <td>...</td>\n",
              "      <td>...</td>\n",
              "      <td>...</td>\n",
              "      <td>...</td>\n",
              "      <td>...</td>\n",
              "      <td>...</td>\n",
              "      <td>...</td>\n",
              "      <td>...</td>\n",
              "      <td>...</td>\n",
              "      <td>...</td>\n",
              "      <td>...</td>\n",
              "      <td>...</td>\n",
              "      <td>...</td>\n",
              "      <td>...</td>\n",
              "      <td>...</td>\n",
              "      <td>...</td>\n",
              "      <td>...</td>\n",
              "      <td>...</td>\n",
              "      <td>...</td>\n",
              "      <td>...</td>\n",
              "      <td>...</td>\n",
              "    </tr>\n",
              "    <tr>\n",
              "      <th>62</th>\n",
              "      <td>2007</td>\n",
              "      <td>Thailand</td>\n",
              "      <td>ASIA (EX. NEAR EAST)</td>\n",
              "      <td>64631595</td>\n",
              "      <td>514000</td>\n",
              "      <td>125.7</td>\n",
              "      <td>0.63</td>\n",
              "      <td>0.00</td>\n",
              "      <td>20.48</td>\n",
              "      <td>7400.0</td>\n",
              "      <td>...</td>\n",
              "      <td>13.87</td>\n",
              "      <td>7.04</td>\n",
              "      <td>0.099</td>\n",
              "      <td>0.441</td>\n",
              "      <td>0.460</td>\n",
              "      <td>17.984214</td>\n",
              "      <td>4.782738e+11</td>\n",
              "      <td>13.149979</td>\n",
              "      <td>THA</td>\n",
              "      <td>39.8</td>\n",
              "    </tr>\n",
              "    <tr>\n",
              "      <th>63</th>\n",
              "      <td>2007</td>\n",
              "      <td>Ukraine</td>\n",
              "      <td>C.W. OF IND. STATES</td>\n",
              "      <td>46710816</td>\n",
              "      <td>603700</td>\n",
              "      <td>77.4</td>\n",
              "      <td>0.46</td>\n",
              "      <td>-0.39</td>\n",
              "      <td>20.34</td>\n",
              "      <td>5400.0</td>\n",
              "      <td>...</td>\n",
              "      <td>8.82</td>\n",
              "      <td>14.39</td>\n",
              "      <td>0.187</td>\n",
              "      <td>0.452</td>\n",
              "      <td>0.361</td>\n",
              "      <td>17.659486</td>\n",
              "      <td>2.522384e+11</td>\n",
              "      <td>13.310833</td>\n",
              "      <td>UKR</td>\n",
              "      <td>27.0</td>\n",
              "    </tr>\n",
              "    <tr>\n",
              "      <th>64</th>\n",
              "      <td>2007</td>\n",
              "      <td>United Kingdom</td>\n",
              "      <td>WESTERN EUROPE</td>\n",
              "      <td>60609153</td>\n",
              "      <td>244820</td>\n",
              "      <td>247.6</td>\n",
              "      <td>5.08</td>\n",
              "      <td>2.19</td>\n",
              "      <td>5.16</td>\n",
              "      <td>27700.0</td>\n",
              "      <td>...</td>\n",
              "      <td>10.71</td>\n",
              "      <td>10.13</td>\n",
              "      <td>0.005</td>\n",
              "      <td>0.237</td>\n",
              "      <td>0.758</td>\n",
              "      <td>17.919956</td>\n",
              "      <td>1.678874e+12</td>\n",
              "      <td>12.408279</td>\n",
              "      <td>GBR</td>\n",
              "      <td>34.4</td>\n",
              "    </tr>\n",
              "    <tr>\n",
              "      <th>65</th>\n",
              "      <td>2007</td>\n",
              "      <td>United States</td>\n",
              "      <td>NORTHERN AMERICA</td>\n",
              "      <td>298444215</td>\n",
              "      <td>9631420</td>\n",
              "      <td>31.0</td>\n",
              "      <td>0.21</td>\n",
              "      <td>3.41</td>\n",
              "      <td>6.50</td>\n",
              "      <td>37800.0</td>\n",
              "      <td>...</td>\n",
              "      <td>14.14</td>\n",
              "      <td>8.26</td>\n",
              "      <td>0.010</td>\n",
              "      <td>0.204</td>\n",
              "      <td>0.787</td>\n",
              "      <td>19.514094</td>\n",
              "      <td>1.128119e+13</td>\n",
              "      <td>16.080541</td>\n",
              "      <td>USA</td>\n",
              "      <td>40.8</td>\n",
              "    </tr>\n",
              "    <tr>\n",
              "      <th>66</th>\n",
              "      <td>2007</td>\n",
              "      <td>Uruguay</td>\n",
              "      <td>LATIN AMER. &amp; CARIB</td>\n",
              "      <td>3431932</td>\n",
              "      <td>176220</td>\n",
              "      <td>19.5</td>\n",
              "      <td>0.37</td>\n",
              "      <td>-0.32</td>\n",
              "      <td>11.95</td>\n",
              "      <td>12800.0</td>\n",
              "      <td>...</td>\n",
              "      <td>13.91</td>\n",
              "      <td>9.05</td>\n",
              "      <td>0.093</td>\n",
              "      <td>0.311</td>\n",
              "      <td>0.596</td>\n",
              "      <td>15.048634</td>\n",
              "      <td>4.392873e+10</td>\n",
              "      <td>12.079488</td>\n",
              "      <td>URY</td>\n",
              "      <td>46.4</td>\n",
              "    </tr>\n",
              "  </tbody>\n",
              "</table>\n",
              "<p>67 rows × 26 columns</p>\n",
              "</div>"
            ],
            "text/plain": [
              "    Year         Country                               Region  Population  \\\n",
              "0   2007       Argentina              LATIN AMER. & CARIB        39921833   \n",
              "1   2007         Armenia                 C.W. OF IND. STATES      2976372   \n",
              "2   2007         Austria  WESTERN EUROPE                          8192880   \n",
              "3   2007         Belarus                 C.W. OF IND. STATES     10293011   \n",
              "4   2007         Belgium  WESTERN EUROPE                         10379067   \n",
              "..   ...             ...                                  ...         ...   \n",
              "62  2007        Thailand        ASIA (EX. NEAR EAST)             64631595   \n",
              "63  2007         Ukraine                 C.W. OF IND. STATES     46710816   \n",
              "64  2007  United Kingdom  WESTERN EUROPE                         60609153   \n",
              "65  2007   United States  NORTHERN AMERICA                      298444215   \n",
              "66  2007         Uruguay              LATIN AMER. & CARIB         3431932   \n",
              "\n",
              "    Area (sq. mi.)  Pop. Density (per sq. mi.)  Coastline (coast/area ratio)  \\\n",
              "0          2766890                        14.4                          0.18   \n",
              "1            29800                        99.9                          0.00   \n",
              "2            83870                        97.7                          0.00   \n",
              "3           207600                        49.6                          0.00   \n",
              "4            30528                       340.0                          0.22   \n",
              "..             ...                         ...                           ...   \n",
              "62          514000                       125.7                          0.63   \n",
              "63          603700                        77.4                          0.46   \n",
              "64          244820                       247.6                          5.08   \n",
              "65         9631420                        31.0                          0.21   \n",
              "66          176220                        19.5                          0.37   \n",
              "\n",
              "    Net migration  Infant mortality (per 1000 births)  GDP ($ per capita)  \\\n",
              "0            0.61                               15.18             11200.0   \n",
              "1           -6.47                               23.28              3500.0   \n",
              "2            2.00                                4.66             30000.0   \n",
              "3            2.54                               13.37              6100.0   \n",
              "4            1.23                                4.68             29100.0   \n",
              "..            ...                                 ...                 ...   \n",
              "62           0.00                               20.48              7400.0   \n",
              "63          -0.39                               20.34              5400.0   \n",
              "64           2.19                                5.16             27700.0   \n",
              "65           3.41                                6.50             37800.0   \n",
              "66          -0.32                               11.95             12800.0   \n",
              "\n",
              "    ...  Birthrate  Deathrate  Agriculture  Industry  Service  LnPopulation  \\\n",
              "0   ...      16.73       7.55        0.095     0.358    0.547     17.502434   \n",
              "1   ...      12.07       8.23        0.239     0.343    0.418     14.906216   \n",
              "2   ...       8.74       9.76        0.018     0.304    0.678     15.918776   \n",
              "3   ...      11.16      14.02        0.093     0.316    0.591     16.146976   \n",
              "4   ...      10.38      10.27        0.010     0.240    0.749     16.155302   \n",
              "..  ...        ...        ...          ...       ...      ...           ...   \n",
              "62  ...      13.87       7.04        0.099     0.441    0.460     17.984214   \n",
              "63  ...       8.82      14.39        0.187     0.452    0.361     17.659486   \n",
              "64  ...      10.71      10.13        0.005     0.237    0.758     17.919956   \n",
              "65  ...      14.14       8.26        0.010     0.204    0.787     19.514094   \n",
              "66  ...      13.91       9.05        0.093     0.311    0.596     15.048634   \n",
              "\n",
              "         GDP ($)  LnArea (sq. mi.)  Country Code  Value  \n",
              "0   4.471245e+11         14.833235           ARG   46.3  \n",
              "1   1.041730e+10         10.302264           ARM   31.2  \n",
              "2   2.457864e+11         11.337023           AUT   30.6  \n",
              "3   6.278737e+10         12.243368           BLR   29.6  \n",
              "4   3.020308e+11         10.326400           BEL   29.2  \n",
              "..           ...               ...           ...    ...  \n",
              "62  4.782738e+11         13.149979           THA   39.8  \n",
              "63  2.522384e+11         13.310833           UKR   27.0  \n",
              "64  1.678874e+12         12.408279           GBR   34.4  \n",
              "65  1.128119e+13         16.080541           USA   40.8  \n",
              "66  4.392873e+10         12.079488           URY   46.4  \n",
              "\n",
              "[67 rows x 26 columns]"
            ]
          },
          "execution_count": 41,
          "metadata": {},
          "output_type": "execute_result"
        }
      ],
      "source": [
        "# Hacemos la union en base al pais y al año, como la data original era solamente del año 2007, se hicieron 67 uniones de manera inner\n",
        "df_merged = df.merge(df_gini, on=[\"Country\", \"Year\"], how=\"inner\")\n",
        "df_merged"
      ]
    },
    {
      "cell_type": "code",
      "execution_count": null,
      "metadata": {
        "id": "jXJ18ERcFBlD"
      },
      "outputs": [
        {
          "name": "stdout",
          "output_type": "stream",
          "text": [
            "<class 'pandas.core.frame.DataFrame'>\n",
            "RangeIndex: 67 entries, 0 to 66\n",
            "Data columns (total 26 columns):\n",
            " #   Column                              Non-Null Count  Dtype  \n",
            "---  ------                              --------------  -----  \n",
            " 0   Year                                67 non-null     int32  \n",
            " 1   Country                             67 non-null     object \n",
            " 2   Region                              67 non-null     object \n",
            " 3   Population                          67 non-null     int64  \n",
            " 4   Area (sq. mi.)                      67 non-null     int64  \n",
            " 5   Pop. Density (per sq. mi.)          67 non-null     float64\n",
            " 6   Coastline (coast/area ratio)        67 non-null     float64\n",
            " 7   Net migration                       67 non-null     float64\n",
            " 8   Infant mortality (per 1000 births)  67 non-null     float64\n",
            " 9   GDP ($ per capita)                  67 non-null     float64\n",
            " 10  Literacy (%)                        67 non-null     float64\n",
            " 11  Phones (per 1000)                   67 non-null     float64\n",
            " 12  Arable (%)                          67 non-null     float64\n",
            " 13  Crops (%)                           67 non-null     float64\n",
            " 14  Other (%)                           67 non-null     float64\n",
            " 15  Climate                             67 non-null     float64\n",
            " 16  Birthrate                           67 non-null     float64\n",
            " 17  Deathrate                           67 non-null     float64\n",
            " 18  Agriculture                         67 non-null     float64\n",
            " 19  Industry                            67 non-null     float64\n",
            " 20  Service                             67 non-null     float64\n",
            " 21  LnPopulation                        67 non-null     float64\n",
            " 22  GDP ($)                             67 non-null     float64\n",
            " 23  LnArea (sq. mi.)                    67 non-null     float64\n",
            " 24  Country Code                        67 non-null     object \n",
            " 25  Value                               67 non-null     float64\n",
            "dtypes: float64(20), int32(1), int64(2), object(3)\n",
            "memory usage: 13.5+ KB\n"
          ]
        }
      ],
      "source": [
        "#Informacion de la data unida\n",
        "df_merged.info()"
      ]
    },
    {
      "cell_type": "markdown",
      "metadata": {
        "id": "b9FvXo8c08Jo"
      },
      "source": [
        "\n",
        "\n",
        "---\n",
        "\n",
        "\n",
        "*Escriba* su respuesta y justificación en esta celda...\n",
        "\n",
        "---\n",
        "\n",
        "\n",
        "\n"
      ]
    },
    {
      "cell_type": "markdown",
      "metadata": {
        "id": "hDpbF1fpMRc-"
      },
      "source": [
        "### Pregunta 2.1\n",
        "\n",
        "Repita el ejercicio de la obtención de un ranking para las correlaciones absolutas, tal como lo hizo para el GDP per cápita. ¿Cuáles son las relaciones que más le sorprenden? ¿Cuáles son las que están en línea con lo que esperaba? Justifique para ambos casos.\n"
      ]
    },
    {
      "cell_type": "code",
      "execution_count": 43,
      "metadata": {
        "id": "kubUXldaMQyW"
      },
      "outputs": [
        {
          "name": "stdout",
          "output_type": "stream",
          "text": [
            "Value                                 1.000000\n",
            "Phones (per 1000)                     0.411323\n",
            "Climate                               0.408106\n",
            "GDP ($ per capita)                    0.398683\n",
            "Birthrate                             0.377369\n",
            "Net migration                         0.345544\n",
            "Arable (%)                            0.342382\n",
            "Deathrate                             0.324386\n",
            "Other (%)                             0.281669\n",
            "LnArea (sq. mi.)                      0.261854\n",
            "Area (sq. mi.)                        0.206807\n",
            "Infant mortality (per 1000 births)    0.203505\n",
            "Agriculture                           0.177731\n",
            "LnPopulation                          0.173882\n",
            "Coastline (coast/area ratio)          0.170565\n",
            "Service                               0.163238\n",
            "Literacy (%)                          0.156958\n",
            "Crops (%)                             0.133987\n",
            "Population                            0.097588\n",
            "Pop. Density (per sq. mi.)            0.071111\n",
            "GDP ($)                               0.046118\n",
            "Industry                              0.032563\n",
            "Year                                       NaN\n",
            "Name: Value, dtype: float64\n"
          ]
        }
      ],
      "source": [
        "# Seleccionar solo las columnas numéricas\n",
        "numeric_cols = df_merged.select_dtypes(include=['number'])\n",
        "\n",
        "# Calcular las correlaciones con el Índice de Gini (Value)\n",
        "correlations = numeric_cols.corr()['Value'].abs().sort_values(ascending=False)\n",
        "\n",
        "# Mostrar el ranking de las variables más correlacionadas con el Gini\n",
        "print(correlations)\n",
        "\n"
      ]
    },
    {
      "cell_type": "markdown",
      "metadata": {
        "id": "Hdi9LNeVN2Zu"
      },
      "source": [
        "Relaciones sorprendentes:\n",
        "\"Phones (per 1000)\" (0.41) → Es interesante que la cantidad de teléfonos por cada 1000 personas tenga una correlación relativamente fuerte con la desigualdad. Esto puede reflejar cómo la conectividad está ligada al desarrollo económico y la distribución del ingreso.\n",
        "\n",
        "\"Climate\" (0.41) → Puede ser llamativo que el clima tenga tanta correlación con el Gini. Esto podría estar relacionado con patrones históricos de desarrollo en climas tropicales y templados, donde la geografía influye en la distribución del ingreso.\n",
        "\n",
        "\"Arable (%)\" (0.34) → La correlación con tierras cultivables podría indicar que economías más agrícolas tienden a tener más desigualdad, lo que no es una intuición obvia.\n",
        "\n",
        "Relaciones esperadas:\n",
        "\"GDP ($ per capita)\" (0.40) → Es lógico que haya una relación entre desigualdad y PIB per cápita. Países con ingresos más altos tienden a tener menor desigualdad, aunque no siempre.\n",
        "\n",
        "\"Birthrate\" (0.38) → Regiones con tasas de natalidad más altas suelen tener economías en desarrollo con mayor desigualdad de ingresos.\n",
        "\n",
        "\"Infant mortality (per 1000 births)\" (0.20) → En países con mayor desigualdad, el acceso a la salud es más limitado, lo que puede llevar a tasas más altas de mortalidad infantil.\n",
        "\n",
        "\"Net migration\" (0.34) → Países con flujos migratorios elevados pueden enfrentar desigualdades económicas al integrar a nuevas poblaciones con menor acceso a recursos.\n",
        "\n"
      ]
    },
    {
      "cell_type": "markdown",
      "metadata": {
        "id": "AKaCieYjT0Ta"
      },
      "source": [
        "### Pregunta 2.2\n",
        "Finalmente, agregaremos una tercera base de datos al análisis, también disponible en [Github](https://raw.githubusercontent.com/datasets/co2-fossil-by-nation/refs/heads/main/data/fossil-fuel-co2-emissions-by-nation.csv) con su repectivo\n",
        "[Repositorio](https://github.com/datasets/co2-fossil-by-nation). Esta contiene emisiones de dióxido de carbono (CO2) total y por fuentes, desagregado por país. La base de datos contiene datos desde el siglo XVI y la frecuencia es anual.\n",
        "\n",
        "Cargue la base de datos llamándola `df_co2`. Asegúrese de que todas las variables estén en su correcto formato (años deben estar en un formato de fecha). ¿Qué cuidados identifica usted que debiésemos tener al momento de observar valores nulos en esta base de datos?\n",
        "\n",
        "Adicionalmente, para cada palabra en la columna `Country`, asegúrese de que la primera letra siempre sea mayúscula y que el resto de letras sean minúsculas (Hint: revise `methods` propios de las variables tipo `string`).\n",
        "\n",
        "Luego, reemplace valores en `df_co2[\"Country\"]` según el mapping otorgado. En el diccionario `country_name_mapping_co2`, _keys_ corresponden a los valores de la tabla `df_co2` y _values_ a los de `df`.\n",
        "\n",
        "\n"
      ]
    },
    {
      "cell_type": "code",
      "execution_count": null,
      "metadata": {
        "id": "NtcEqVc03dZD"
      },
      "outputs": [],
      "source": [
        "# NO MODIFICAR, pero sí ejecutar\n",
        "country_name_mapping_co2 = {\n",
        "    \"United States Of America\": \"United States\",\n",
        "    \"France (Including Monaco)\": \"France\",\n",
        "    \"Italy (Including San Marino)\": \"Italy\",\n",
        "    \"Plurinational State Of Bolivia\": \"Bolivia\",\n",
        "    \"Federal Republic Of Germany\": \"Germany\",\n",
        "    \"Former German Democratic Republic\": \"Germany\",\n",
        "    \"Republic Of Moldova\": \"Moldova\",\n",
        "    \"United Republic Of Tanzania\": \"Tanzania\",\n",
        "    \"Japan (Excluding The Ruyuku Islands)\": \"Japan\",\n",
        "    \"Hong Kong Special Adminstrative Region Of China\": \"Hong Kong\",\n",
        "    \"Peninsular Malaysia\": \"Malaysia\",\n",
        "    \"Democratic Republic Of The Congo (Formerly Zaire)\": \"Congo, Dem. Rep.\",\n",
        "    \"Brunei (Darussalam)\": \"Brunei\",\n",
        "    \"Myanmar (Formerly Burma)\": \"Burma\",\n",
        "    \"Syrian Arab Republic\": \"Syria\",\n",
        "    \"Islamic Republic Of Iran\": \"Iran\",\n",
        "    \"Republic Of Korea\": \"Korea, South\",\n",
        "    \"Democratic People S Republic Of Korea\": \"Korea, North\",\n",
        "    \"Russian Federation\": \"Russia\",\n",
        "    \"Viet Nam\": \"Vietnam\",\n",
        "    \"Yemen\": \"Yemen, Rep.\",\n",
        "    \"Trinidad And Tobago\": \"Trinidad & Tobago\",\n",
        "    \"Bahamas\": \"Bahamas, The\",\n",
        "    \"Micronesia\": \"Micronesia, Fed. St.\",\n",
        "    \"Slovakia\": \"Slovakia\",\n",
        "    \"St. Vincent & The Grenadines\": \"Saint Vincent and the Grenadines\",\n",
        "    \"Saint Lucia\": \"Saint Lucia\",\n",
        "    \"Antigua & Barbuda\": \"Antigua & Barbuda\",\n",
        "    \"Saint Kitts-Nevis-Anguilla\": \"Saint Kitts & Nevis\",\n",
        "    \"Netherland Antilles And Aruba\": \"Netherlands Antilles\",\n",
        "    \"Timor-Leste (Formerly East Timor)\": \"East Timor\",\n",
        "    \"Macau Special Adminstrative Region Of China\": \"Macau\",\n",
        "    \"Republic Of Cameroon\": \"Cameroon\",\n",
        "    \"Republic Of Sudan\": \"Sudan\",\n",
        "    \"Lao People S Democratic Republic\": \"Laos\",\n",
        "    \"Libyan Arab Jamahiriyah\": \"Libya\",\n",
        "    \"Cote D Ivoire\": \"Cote d'Ivoire\",\n",
        "    \"British Virgin Islands\": \"British Virgin Is.\",\n",
        "    \"Faeroe Islands\": \"Faroe Islands\",\n",
        "    \"China (Mainland)\": \"China\",\n",
        "}\n"
      ]
    },
    {
      "cell_type": "code",
      "execution_count": null,
      "metadata": {
        "id": "Ltp-kxYf3gZW"
      },
      "outputs": [],
      "source": [
        "url_2 = 'https://raw.githubusercontent.com/datasets/co2-fossil-by-nation/refs/heads/main/data/fossil-fuel-co2-emissions-by-nation.csv'\n",
        "\n",
        "df_co2 = pd.read_csv(url_2)\n",
        "\n",
        "df_co2"
      ]
    },
    {
      "cell_type": "code",
      "execution_count": null,
      "metadata": {
        "id": "qZGBBGUbPgp3"
      },
      "outputs": [],
      "source": [
        "df_co2[\"Year\"] = pd.to_datetime(df_co2[\"Year\"])\n",
        "\n",
        "df[\"Year\"] = pd.to_datetime(df[\"Year\"]).dt.year "
      ]
    },
    {
      "cell_type": "code",
      "execution_count": null,
      "metadata": {},
      "outputs": [],
      "source": [
        "df"
      ]
    },
    {
      "cell_type": "code",
      "execution_count": null,
      "metadata": {
        "id": "Xdb5szOgPoWN"
      },
      "outputs": [],
      "source": [
        "df_co2[\"Country\"] = df_co2[\"Country\"].str.title()\n",
        "\n",
        "df_co2"
      ]
    },
    {
      "cell_type": "code",
      "execution_count": null,
      "metadata": {
        "id": "LX_4OGgGPrKu"
      },
      "outputs": [],
      "source": [
        "df_co2[\"Country\"] = df_co2[\"Country\"].replace(country_name_mapping_co2)"
      ]
    },
    {
      "cell_type": "code",
      "execution_count": null,
      "metadata": {
        "id": "rfoGEVWWP11M"
      },
      "outputs": [],
      "source": [
        "df_co2"
      ]
    },
    {
      "cell_type": "markdown",
      "metadata": {
        "id": "LspdjyOa3xUS"
      },
      "source": [
        "\n",
        "\n",
        "---\n",
        "\n",
        "\n",
        "*Escriba* su respuesta y justificación en esta celda...\n",
        "\n",
        "---\n",
        "\n"
      ]
    },
    {
      "cell_type": "markdown",
      "metadata": {
        "id": "IyAErL5-3oa1"
      },
      "source": [
        "### Pregunta 2.3\n",
        "\n",
        "En un mismo gráfico, grafique las series de emisiones totales de CO2 para los siguientes países:\n",
        "\n",
        "- Reino Unido\n",
        "- Canadá\n",
        "- Alemania\n",
        "- Francia\n",
        "- Estados Unidos\n",
        "- Brasil\n",
        "- China\n",
        "- Japón\n",
        "- India\n",
        "\n",
        "\n",
        "Para cada serie, añada una leyenda con el nombre del país.\n"
      ]
    },
    {
      "cell_type": "code",
      "execution_count": null,
      "metadata": {
        "id": "PRaf9G5s3yoT"
      },
      "outputs": [],
      "source": [
        "paises = [\"United Kingdom\", \"Canada\", \"Germany\", \"France\", \"United States\", \"Brazil\", \"China\", \"Japan\", \"India\"]\n",
        "\n",
        "df_co2_filtered = df_co2[df_co2[\"Country\"].isin(paises)]\n",
        "\n",
        "plt.figure(figsize=(20, 20))\n",
        "for pais in paises:\n",
        "    subset = df_co2_filtered[df_co2_filtered[\"Country\"] == pais]\n",
        "    plt.plot(subset[\"Year\"], subset[\"Total\"], label=pais)\n",
        "\n",
        "\n",
        "plt.xlabel(\"Año\")\n",
        "plt.ylabel(\"Emisiones totales de CO₂ (toneladas)\")\n",
        "plt.title(\"Emisiones Totales de CO₂ por País\")\n",
        "plt.legend()\n",
        "plt.grid(True)\n",
        "plt.show()"
      ]
    },
    {
      "cell_type": "markdown",
      "metadata": {
        "id": "qEXra8QY37Nq"
      },
      "source": [
        "### Pregunta 2.4\n",
        "\n",
        "Para el año 2007, por cada país realice un ranking de las fuentes con más emisiones de CO2 excluyendo las variables `Per Capita` y `Bunker fuels (Not in Total)`. Es decir, asigne un número de 1 a 5 a $\\{$ `Solid Fuel`, `Liquid Fuel`, `Gas Fuel`, `Cement`, `Gas Flaring` $\\}$, donde 1 es la mayor fuente de emisión de ese país en aquel año, y 5 indica que fue la menor; así para todos los países.\n",
        "\n",
        "Si en 2007 no se reporta una fuente de emisión para un país, por ejemplo, si emisiones de `Gas Flaring` no se reportara, entonces asigne números de 1 a 4 a las fuentes restantes. Análogo para un menor número de datos.\n",
        "\n",
        "Luego, por cada variable grafique un histograma de frecuencias del ranking que obtuvo la fuente emisión a lo largo de todos los países.\n",
        "\n",
        "¿Cuál fue la fuente más contaminante en la mayoría de países en 2007?\n"
      ]
    },
    {
      "cell_type": "code",
      "execution_count": null,
      "metadata": {
        "id": "tYYgYEQj4Plf"
      },
      "outputs": [],
      "source": [
        "# Filtrar datos para el año 2007\n",
        "df_co2_2007 = df_co2[df_co2[\"Year\"].dt.year == 2007].copy()\n",
        "\n",
        "# Columnas de fuentes de emisiones a evaluar\n",
        "sources = [\"Solid Fuel\", \"Liquid Fuel\", \"Gas Fuel\", \"Cement\", \"Gas Flaring\"]\n",
        "\n",
        "# Función para rankear las fuentes: mayor emisión -> ranking 1\n",
        "def rank_sources(row):\n",
        "    available = row[sources]\n",
        "    # Realiza el ranking en forma descendente; el valor más alto recibe el ranking 1\n",
        "    ranks = available.rank(ascending=False, method='min')\n",
        "    return ranks\n",
        "\n",
        "# Aplicar el ranking por cada país\n",
        "df_ranks = df_co2_2007.copy()\n",
        "df_ranks[sources] = df_ranks.apply(rank_sources, axis=1)\n",
        "\n",
        "# Graficar histogramas de frecuencia de rankings para cada fuente\n",
        "plt.figure(figsize=(15, 10))\n",
        "for i, source in enumerate(sources, 1):\n",
        "    plt.subplot(2, 3, i)\n",
        "    max_rank = int(df_ranks[source].max())\n",
        "    bins = range(1, max_rank + 2)\n",
        "    plt.hist(df_ranks[source].dropna(), bins=bins, align='left', rwidth=0.8, edgecolor='black')\n",
        "    plt.xlabel('Ranking')\n",
        "    plt.ylabel('Frecuencia')\n",
        "    plt.title(f'Histograma para {source}')\n",
        "plt.tight_layout()\n",
        "plt.show()\n",
        "\n",
        "# Calcular cuántos países tienen ranking 1 para cada fuente\n",
        "rank1_counts = {}\n",
        "for source in sources:\n",
        "    rank1_counts[source] = (df_ranks[source] == 1).sum()\n",
        "\n",
        "print(\"Cantidad de países con ranking 1 para cada fuente:\")\n",
        "print(rank1_counts)\n"
      ]
    },
    {
      "cell_type": "code",
      "execution_count": null,
      "metadata": {
        "id": "ASN5b-v-4TIC"
      },
      "outputs": [],
      "source": []
    },
    {
      "cell_type": "markdown",
      "metadata": {
        "id": "IoZ-1SLf4Ydp"
      },
      "source": [
        "\n",
        "\n",
        "---\n",
        "\n",
        "\n",
        "*Escriba* su respuesta y justificación en esta celda...\n",
        "\n",
        "---\n",
        "\n",
        "\n",
        "\n"
      ]
    },
    {
      "cell_type": "markdown",
      "metadata": {
        "id": "WbbdLxYw4vG_"
      },
      "source": [
        "### Pregunta 2.5\n",
        "\n",
        "Para cada serie de total de emisiones por país, calcule el cambio porcentual a través del tiempo. Realice imputación de missings si considera necesario, justificando su imputación. Si no lo considera necesario, también justifique (se evaluará un buen criterio fundamentado).\n",
        "\n",
        "Repita el ejercicio del gráfico de series de tiempo anterior, pero graficando los **cambios porcentuales** para años mayores o iguales a 1995. ¿Cómo interpretaría económicamente el shock sobre las emisiones de CO2 tanto en la crisis subprime como en la crisis del Covid-19?\n"
      ]
    },
    {
      "cell_type": "code",
      "execution_count": null,
      "metadata": {
        "id": "Rww8aBNt4x4S"
      },
      "outputs": [],
      "source": []
    },
    {
      "cell_type": "code",
      "execution_count": null,
      "metadata": {
        "id": "x2hbphpP40hr"
      },
      "outputs": [],
      "source": []
    },
    {
      "cell_type": "markdown",
      "metadata": {
        "id": "CQSZZhGa47ys"
      },
      "source": [
        "\n",
        "---\n",
        "\n",
        "\n",
        "*Escriba* su justificación e interpretación en esta celda...\n",
        "\n",
        "\n",
        "\n",
        "---\n",
        "\n",
        "\n",
        "\n"
      ]
    },
    {
      "cell_type": "markdown",
      "metadata": {
        "id": "AYIpqp3J5ei1"
      },
      "source": [
        "### Pregunta 2.6\n",
        "\n",
        "Calcule el promedio a lo largo de toda la muestra ($\\mathbb{E}[\\cdot]$) para el cambio porcentual de cada país y genere una nueva serie con la resta entre el cambio porcentual del país $i$ en el año $t$, y el promedio del cambio porcentual del país $i$. En otras palabras, genere una serie con _**desvíos del cambio porcentual promedio**_ $\\forall i,t$:\n",
        "\n",
        "$$Nueva Serie_i = \\Delta \\% TotalCO2_{i,t} - \\mathbb{E}[{\\Delta \\% TotalCO2_{i,t}}]$$\n",
        "\n",
        "Luego, para los siguientes países:\n",
        "\n",
        "- Reino Unido\n",
        "- Canadá\n",
        "- Alemania\n",
        "- Francia\n",
        "- Estados Unidos\n",
        "- Japón\n",
        "- Italia\n",
        "- España\n",
        "\n",
        "\n",
        "grafique en un panel _1x2_ la desviación del cambio porcentual respecto al promedio entre 2007 y 2010 en lado izquierdo, y entre 2017 y 2020 en el lado derecho (Hint: Hay comandos que facilitan esta labor. Puede intentar con `fig, axes = plt.subplots(1, 2, figsize=(18, 6), sharey=True)`, por ejemplo).\n",
        "\n",
        "¿Existe algún país en particular que mostró mayores desviaciones atípicas de emisión de CO2 durante el periodo de la crisis sub-prime? ¿Cómo es el comportamiento de las desviaciones atípicas de CO2 de este país durante la crisis del Covid-19?\n"
      ]
    },
    {
      "cell_type": "code",
      "execution_count": null,
      "metadata": {
        "id": "aDwOdgZy5duv"
      },
      "outputs": [],
      "source": []
    },
    {
      "cell_type": "markdown",
      "metadata": {
        "id": "jqxlaxLi5m6C"
      },
      "source": [
        "---\n",
        "\n",
        "\n",
        "*Escriba* su respuesta en esta celda...\n",
        "\n",
        "\n",
        "\n",
        "---\n",
        "\n",
        "\n",
        "\n"
      ]
    },
    {
      "cell_type": "markdown",
      "metadata": {
        "id": "GK0bdPCgUYTu"
      },
      "source": [
        "### Pregunta 2.7\n",
        "\n",
        "Genere un nuevo dataframe llamado `df_final`. Para esto, realice un INNER JOIN entre el dataframe `df_co2` y `df_merged` por \"año y país\" (debería terminar sólo con valores de 2007 si usted realiza un INNER JOIN).\n",
        "\n",
        "Finalmente, grafique un mapa de calor de correlaciones (_heatmapt_) entre las variables numéricas ,excluyendo fechas.\n",
        "\n",
        "¿Qué variables económicas, demográficas y de desarrollo humano muestran relación más importante con las emisiones de CO2? Interprete estas relaciones.\n"
      ]
    },
    {
      "cell_type": "code",
      "execution_count": null,
      "metadata": {
        "id": "hauNz8pRUbwi"
      },
      "outputs": [],
      "source": []
    },
    {
      "cell_type": "markdown",
      "metadata": {
        "id": "qIeJaVhhUetU"
      },
      "source": [
        "---\n",
        "\n",
        "\n",
        "*Escriba* su respuesta e interpretación en esta celda...\n",
        "\n",
        "\n",
        "\n",
        "---\n"
      ]
    }
  ],
  "metadata": {
    "colab": {
      "provenance": []
    },
    "kernelspec": {
      "display_name": "Python 3",
      "name": "python3"
    },
    "language_info": {
      "codemirror_mode": {
        "name": "ipython",
        "version": 3
      },
      "file_extension": ".py",
      "mimetype": "text/x-python",
      "name": "python",
      "nbconvert_exporter": "python",
      "pygments_lexer": "ipython3",
      "version": "3.12.4"
    }
  },
  "nbformat": 4,
  "nbformat_minor": 0
}
